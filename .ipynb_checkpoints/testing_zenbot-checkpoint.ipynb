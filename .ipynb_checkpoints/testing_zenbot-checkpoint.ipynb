{
 "cells": [
  {
   "cell_type": "code",
   "execution_count": 1,
   "metadata": {},
   "outputs": [],
   "source": [
    "from Zenbot import Zenbot\n",
    "import datetime"
   ]
  },
  {
   "cell_type": "code",
   "execution_count": 2,
   "metadata": {},
   "outputs": [
    {
     "name": "stdout",
     "output_type": "stream",
     "text": [
      "{'efadaddc-6db1-4a9a-9895-a29c4007864f': 'None'}\n"
     ]
    },
    {
     "data": {
      "text/plain": [
       "[<Task.Task at 0x7f71e5781fd0>]"
      ]
     },
     "execution_count": 2,
     "metadata": {},
     "output_type": "execute_result"
    }
   ],
   "source": [
    "zen = Zenbot(params = {'id':654321, 'events' : [], 'tasks' : []})\n",
    "zen.add_task(zen.zenbotid)\n",
    "zen.tasks"
   ]
  },
  {
   "cell_type": "code",
   "execution_count": 3,
   "metadata": {},
   "outputs": [],
   "source": [
    "zen.certifications = dict([['cert1', datetime.datetime(2016,5,5)], ['cert2', datetime.datetime(2016,2,1)]])\n",
    "zen.requiredcertifications = dict([['cert1', datetime.datetime(2016,1,5)], ['cert2', datetime.datetime(2017,2,1)],['cert3', datetime.datetime(2017,5,1)]])"
   ]
  },
  {
   "cell_type": "code",
   "execution_count": 4,
   "metadata": {},
   "outputs": [
    {
     "data": {
      "text/plain": [
       "[<Task.Task at 0x7f71e5781fd0>]"
      ]
     },
     "execution_count": 4,
     "metadata": {},
     "output_type": "execute_result"
    }
   ],
   "source": [
    "zen.tasks"
   ]
  },
  {
   "cell_type": "code",
   "execution_count": 5,
   "metadata": {},
   "outputs": [
    {
     "name": "stdout",
     "output_type": "stream",
     "text": [
      "2016-05-05 00:00:00\n",
      "cert3\n",
      "cert2\n"
     ]
    }
   ],
   "source": [
    "#sometimes randomly creates duplicates\n",
    "zen.new_trainings()"
   ]
  },
  {
   "cell_type": "code",
   "execution_count": 6,
   "metadata": {},
   "outputs": [],
   "source": [
    "global master_zenbot_dict\n",
    "master_zenbot_dict = dict()"
   ]
  },
  {
   "cell_type": "code",
   "execution_count": 7,
   "metadata": {},
   "outputs": [
    {
     "name": "stdout",
     "output_type": "stream",
     "text": [
      "{'description': 'body', 'title': 'task1'}\n",
      "{'description': '2017-05-01 00:00:00', 'title': 'cert3'}\n",
      "{'description': '2017-02-01 00:00:00', 'title': 'cert2'}\n"
     ]
    }
   ],
   "source": [
    "for task in zen.tasks:\n",
    "    print(task.description)"
   ]
  },
  {
   "cell_type": "code",
   "execution_count": 8,
   "metadata": {},
   "outputs": [
    {
     "name": "stdout",
     "output_type": "stream",
     "text": [
      "3\n",
      "[['task1', 123456, 'type1', 0.0, datetime.datetime(2020, 2, 1, 0, 0), None, datetime.timedelta(1), datetime.timedelta(0), 2, '', 'body'], ['cert3', 111111, 'training', 0.0, datetime.datetime(2018, 1, 25, 21, 29, 6, 807105), None, datetime.timedelta(0, 600), datetime.timedelta(0), 0, '', '2017-05-01 00:00:00'], ['cert2', 111111, 'training', 0.0, datetime.datetime(2018, 1, 25, 21, 29, 6, 807355), None, datetime.timedelta(0, 600), datetime.timedelta(0), 0, '', '2017-02-01 00:00:00']]\n"
     ]
    }
   ],
   "source": [
    "df = zen.generate_df()"
   ]
  },
  {
   "cell_type": "code",
   "execution_count": 9,
   "metadata": {},
   "outputs": [
    {
     "data": {
      "text/html": [
       "<div>\n",
       "<style scoped>\n",
       "    .dataframe tbody tr th:only-of-type {\n",
       "        vertical-align: middle;\n",
       "    }\n",
       "\n",
       "    .dataframe tbody tr th {\n",
       "        vertical-align: top;\n",
       "    }\n",
       "\n",
       "    .dataframe thead th {\n",
       "        text-align: right;\n",
       "    }\n",
       "</style>\n",
       "<table border=\"1\" class=\"dataframe\">\n",
       "  <thead>\n",
       "    <tr style=\"text-align: right;\">\n",
       "      <th></th>\n",
       "      <th>title</th>\n",
       "      <th>project_id</th>\n",
       "      <th>category</th>\n",
       "      <th>progress</th>\n",
       "      <th>deadline</th>\n",
       "      <th>date_completed</th>\n",
       "      <th>dur_estim</th>\n",
       "      <th>time_on_task</th>\n",
       "      <th>effort</th>\n",
       "      <th>dependency_of</th>\n",
       "      <th>description</th>\n",
       "      <th>remaining_time</th>\n",
       "      <th>completed</th>\n",
       "      <th>overdue</th>\n",
       "      <th>at_risk</th>\n",
       "    </tr>\n",
       "  </thead>\n",
       "  <tbody>\n",
       "    <tr>\n",
       "      <th>0</th>\n",
       "      <td>task1</td>\n",
       "      <td>123456</td>\n",
       "      <td>type1</td>\n",
       "      <td>0.0</td>\n",
       "      <td>2020-02-01 00:00:00.000000</td>\n",
       "      <td>None</td>\n",
       "      <td>1 days 00:00:00</td>\n",
       "      <td>0 days</td>\n",
       "      <td>2</td>\n",
       "      <td></td>\n",
       "      <td>body</td>\n",
       "      <td>0 days</td>\n",
       "      <td>0</td>\n",
       "      <td>0</td>\n",
       "      <td>0</td>\n",
       "    </tr>\n",
       "    <tr>\n",
       "      <th>1</th>\n",
       "      <td>cert3</td>\n",
       "      <td>111111</td>\n",
       "      <td>training</td>\n",
       "      <td>0.0</td>\n",
       "      <td>2018-01-25 21:29:06.807105</td>\n",
       "      <td>None</td>\n",
       "      <td>0 days 00:10:00</td>\n",
       "      <td>0 days</td>\n",
       "      <td>0</td>\n",
       "      <td></td>\n",
       "      <td>2017-05-01 00:00:00</td>\n",
       "      <td>0 days</td>\n",
       "      <td>0</td>\n",
       "      <td>0</td>\n",
       "      <td>0</td>\n",
       "    </tr>\n",
       "    <tr>\n",
       "      <th>2</th>\n",
       "      <td>cert2</td>\n",
       "      <td>111111</td>\n",
       "      <td>training</td>\n",
       "      <td>0.0</td>\n",
       "      <td>2018-01-25 21:29:06.807355</td>\n",
       "      <td>None</td>\n",
       "      <td>0 days 00:10:00</td>\n",
       "      <td>0 days</td>\n",
       "      <td>0</td>\n",
       "      <td></td>\n",
       "      <td>2017-02-01 00:00:00</td>\n",
       "      <td>0 days</td>\n",
       "      <td>0</td>\n",
       "      <td>0</td>\n",
       "      <td>0</td>\n",
       "    </tr>\n",
       "  </tbody>\n",
       "</table>\n",
       "</div>"
      ],
      "text/plain": [
       "   title  project_id  category  progress                   deadline  \\\n",
       "0  task1      123456     type1       0.0 2020-02-01 00:00:00.000000   \n",
       "1  cert3      111111  training       0.0 2018-01-25 21:29:06.807105   \n",
       "2  cert2      111111  training       0.0 2018-01-25 21:29:06.807355   \n",
       "\n",
       "  date_completed       dur_estim time_on_task  effort dependency_of  \\\n",
       "0           None 1 days 00:00:00       0 days       2                 \n",
       "1           None 0 days 00:10:00       0 days       0                 \n",
       "2           None 0 days 00:10:00       0 days       0                 \n",
       "\n",
       "           description remaining_time  completed  overdue  at_risk  \n",
       "0                 body         0 days          0        0        0  \n",
       "1  2017-05-01 00:00:00         0 days          0        0        0  \n",
       "2  2017-02-01 00:00:00         0 days          0        0        0  "
      ]
     },
     "execution_count": 9,
     "metadata": {},
     "output_type": "execute_result"
    }
   ],
   "source": [
    "df.head(10)"
   ]
  },
  {
   "cell_type": "code",
   "execution_count": 10,
   "metadata": {},
   "outputs": [
    {
     "name": "stdout",
     "output_type": "stream",
     "text": [
      "3\n"
     ]
    }
   ],
   "source": [
    "zen.remove_old()"
   ]
  },
  {
   "cell_type": "code",
   "execution_count": 11,
   "metadata": {},
   "outputs": [],
   "source": [
    "a = zen.make_today_schedule()"
   ]
  },
  {
   "cell_type": "code",
   "execution_count": 12,
   "metadata": {},
   "outputs": [
    {
     "data": {
      "text/plain": [
       "[<Task.Task at 0x7f7209344358>, <Task.Task at 0x7f7209344208>]"
      ]
     },
     "execution_count": 12,
     "metadata": {},
     "output_type": "execute_result"
    }
   ],
   "source": [
    "a.tasks"
   ]
  },
  {
   "cell_type": "code",
   "execution_count": 13,
   "metadata": {},
   "outputs": [
    {
     "name": "stdout",
     "output_type": "stream",
     "text": [
      "{'efadaddc-6db1-4a9a-9895-a29c4007864f': 'None', '3b3a41ee-f281-4164-b316-4324f86cfc88': 'None'}\n"
     ]
    }
   ],
   "source": [
    "admin = Zenbot(params = {'id':'Z3N', 'events':[], 'tasks': []})\n",
    "admin.zenbotid = 'Z3N'\n",
    "Zenbot.zenbot_dict[admin.zenbotid] = admin"
   ]
  },
  {
   "cell_type": "code",
   "execution_count": null,
   "metadata": {},
   "outputs": [],
   "source": []
  },
  {
   "cell_type": "code",
   "execution_count": 14,
   "metadata": {},
   "outputs": [],
   "source": []
  },
  {
   "cell_type": "code",
   "execution_count": 15,
   "metadata": {},
   "outputs": [
    {
     "data": {
      "text/plain": [
       "{'Z3N': <Zenbot.Zenbot at 0x7f71e4eeca58>,\n",
       " 'efadaddc-6db1-4a9a-9895-a29c4007864f': <Zenbot.Zenbot at 0x7f71e4ed1048>}"
      ]
     },
     "execution_count": 15,
     "metadata": {},
     "output_type": "execute_result"
    }
   ],
   "source": []
  },
  {
   "cell_type": "code",
   "execution_count": 21,
   "metadata": {},
   "outputs": [
    {
     "data": {
      "text/plain": [
       "'None'"
      ]
     },
     "execution_count": 21,
     "metadata": {},
     "output_type": "execute_result"
    }
   ],
   "source": [
    "Zenbot.zenbot_dict.get(zen.zenbotid)"
   ]
  },
  {
   "cell_type": "code",
   "execution_count": 23,
   "metadata": {},
   "outputs": [],
   "source": [
    "Zenbot.zenbot_dict[zen.zenbotid] = zen\n",
    "Zenbot.zenbot_dict[admin.zenbotid] = admin"
   ]
  },
  {
   "cell_type": "code",
   "execution_count": 24,
   "metadata": {},
   "outputs": [
    {
     "name": "stdout",
     "output_type": "stream",
     "text": [
      "True\n",
      "<Zenbot.Zenbot object at 0x7f71e4ed1048>\n"
     ]
    }
   ],
   "source": [
    "admin.grant_access(admin.zenbotid, zen.zenbotid)"
   ]
  },
  {
   "cell_type": "code",
   "execution_count": 28,
   "metadata": {},
   "outputs": [
    {
     "data": {
      "text/plain": [
       "{'level1': ['efadaddc-6db1-4a9a-9895-a29c4007864f', 'Z3N'],\n",
       " 'level2': [],\n",
       " 'level3': ['Z3N', 'Z3N']}"
      ]
     },
     "execution_count": 28,
     "metadata": {},
     "output_type": "execute_result"
    }
   ],
   "source": [
    "Zenbot.zenbot_dict[zen.zenbotid].accessdict"
   ]
  },
  {
   "cell_type": "code",
   "execution_count": null,
   "metadata": {},
   "outputs": [],
   "source": []
  },
  {
   "cell_type": "code",
   "execution_count": null,
   "metadata": {},
   "outputs": [],
   "source": []
  },
  {
   "cell_type": "code",
   "execution_count": 27,
   "metadata": {},
   "outputs": [
    {
     "data": {
      "text/plain": [
       "{'3b3a41ee-f281-4164-b316-4324f86cfc88': 'None',\n",
       " 'Z3N': <Zenbot.Zenbot at 0x7f71e4eeca58>,\n",
       " 'efadaddc-6db1-4a9a-9895-a29c4007864f': <Zenbot.Zenbot at 0x7f71e4ed1048>}"
      ]
     },
     "execution_count": 27,
     "metadata": {},
     "output_type": "execute_result"
    }
   ],
   "source": [
    "Zenbot.zenbot_dict"
   ]
  },
  {
   "cell_type": "code",
   "execution_count": null,
   "metadata": {},
   "outputs": [],
   "source": []
  },
  {
   "cell_type": "code",
   "execution_count": 19,
   "metadata": {},
   "outputs": [
    {
     "name": "stdout",
     "output_type": "stream",
     "text": [
      "True\n",
      "<Zenbot.Zenbot object at 0x7f71e4ed1048>\n"
     ]
    }
   ],
   "source": [
    "def grant_access(my_zenbotid, access_for_zenbotid, access_to_zenbotid, level = 'level3'):\n",
    "\tprint(access_to_zenbotid in master_zenbot_dict)\n",
    "\tzenbot = master_zenbot_dict.get(access_to_zenbotid)\n",
    "\tprint(zenbot)\n",
    "\tif my_zenbotid in zenbot.accessdict['level1']:\n",
    "\t\tif level != 'level1':\n",
    "\t\t\tzenbot.accessdict[level].append(access_for_zenbotid)\n",
    "\telif my_zenbotid in zenbot.accessdict['level2']:\n",
    "\t\tif level not in ['level1', 'level2']:\n",
    "\t\t\tzenbot.accessdict[level].append(access_for_zenbotid)\n",
    "\telse:\n",
    "\t\tprint('You are not permitted to grant access to {}.'.format(access_to_zenbotid))\n",
    "\n",
    "\n",
    "grant_access('Z3N', 'Z3N', zen.zenbotid)\n"
   ]
  },
  {
   "cell_type": "code",
   "execution_count": null,
   "metadata": {},
   "outputs": [],
   "source": []
  }
 ],
 "metadata": {
  "kernelspec": {
   "display_name": "Python 3",
   "language": "python",
   "name": "python3"
  },
  "language_info": {
   "codemirror_mode": {
    "name": "ipython",
    "version": 3
   },
   "file_extension": ".py",
   "mimetype": "text/x-python",
   "name": "python",
   "nbconvert_exporter": "python",
   "pygments_lexer": "ipython3",
   "version": "3.5.2"
  }
 },
 "nbformat": 4,
 "nbformat_minor": 2
}
