{
 "cells": [
  {
   "cell_type": "code",
   "execution_count": 25,
   "metadata": {},
   "outputs": [],
   "source": [
    "from Zenbot import Zenbot\n",
    "import datetime"
   ]
  },
  {
   "cell_type": "code",
   "execution_count": 26,
   "metadata": {},
   "outputs": [
    {
     "data": {
      "text/plain": [
       "[<Task.Task at 0x7faf4bfeec88>]"
      ]
     },
     "execution_count": 26,
     "metadata": {},
     "output_type": "execute_result"
    }
   ],
   "source": [
    "zen = Zenbot(params = {'id':654321, 'events' : [], 'tasks' : []})\n",
    "zen.add_task(zen.zenbotid)\n",
    "zen.tasks"
   ]
  },
  {
   "cell_type": "code",
   "execution_count": 27,
   "metadata": {},
   "outputs": [],
   "source": [
    "zen.certifications = dict([['cert1', datetime.datetime(2016,5,5)], ['cert2', datetime.datetime(2016,2,1)]])\n",
    "zen.requiredcertifications = dict([['cert1', datetime.datetime(2016,1,5)], ['cert2', datetime.datetime(2017,2,1)],['cert3', datetime.datetime(2017,5,1)]])"
   ]
  },
  {
   "cell_type": "code",
   "execution_count": 28,
   "metadata": {},
   "outputs": [
    {
     "data": {
      "text/plain": [
       "[<Task.Task at 0x7faf4bfeec88>]"
      ]
     },
     "execution_count": 28,
     "metadata": {},
     "output_type": "execute_result"
    }
   ],
   "source": [
    "zen.tasks"
   ]
  },
  {
   "cell_type": "code",
   "execution_count": 29,
   "metadata": {},
   "outputs": [
    {
     "name": "stdout",
     "output_type": "stream",
     "text": [
      "cert2\n",
      "cert3\n",
      "2016-05-05 00:00:00\n"
     ]
    }
   ],
   "source": [
    "#sometimes randomly creates duplicates\n",
    "zen.new_trainings()"
   ]
  },
  {
   "cell_type": "code",
   "execution_count": null,
   "metadata": {},
   "outputs": [],
   "source": []
  },
  {
   "cell_type": "code",
   "execution_count": 30,
   "metadata": {},
   "outputs": [
    {
     "name": "stdout",
     "output_type": "stream",
     "text": [
      "{'title': 'task1', 'description': 'body'}\n",
      "{'title': 'cert2', 'description': '2017-02-01 00:00:00'}\n",
      "{'title': 'cert3', 'description': '2017-05-01 00:00:00'}\n",
      "{'title': 'cert3', 'description': '2017-05-01 00:00:00'}\n"
     ]
    }
   ],
   "source": [
    "for task in zen.tasks:\n",
    "    print(task.description)"
   ]
  },
  {
   "cell_type": "code",
   "execution_count": 31,
   "metadata": {},
   "outputs": [
    {
     "name": "stdout",
     "output_type": "stream",
     "text": [
      "4\n",
      "[['task1', 123456, 'type1', 0.0, datetime.datetime(2020, 2, 1, 0, 0), None, datetime.timedelta(1), datetime.timedelta(0), 2, '', 'body'], ['cert2', 111111, 'training', 0.0, datetime.datetime(2018, 1, 25, 17, 19, 31, 817624), None, datetime.timedelta(0, 600), datetime.timedelta(0), 0, '', '2017-02-01 00:00:00'], ['cert3', 111111, 'training', 0.0, datetime.datetime(2018, 1, 25, 17, 19, 31, 817815), None, datetime.timedelta(0, 600), datetime.timedelta(0), 0, '', '2017-05-01 00:00:00'], ['cert3', 111111, 'training', 0.0, datetime.datetime(2018, 1, 25, 17, 19, 31, 817815), None, datetime.timedelta(0, 600), datetime.timedelta(0), 0, '', '2017-05-01 00:00:00']]\n"
     ]
    }
   ],
   "source": [
    "df = zen.generate_df()"
   ]
  },
  {
   "cell_type": "code",
   "execution_count": 32,
   "metadata": {},
   "outputs": [
    {
     "data": {
      "text/html": [
       "<div>\n",
       "<style scoped>\n",
       "    .dataframe tbody tr th:only-of-type {\n",
       "        vertical-align: middle;\n",
       "    }\n",
       "\n",
       "    .dataframe tbody tr th {\n",
       "        vertical-align: top;\n",
       "    }\n",
       "\n",
       "    .dataframe thead th {\n",
       "        text-align: right;\n",
       "    }\n",
       "</style>\n",
       "<table border=\"1\" class=\"dataframe\">\n",
       "  <thead>\n",
       "    <tr style=\"text-align: right;\">\n",
       "      <th></th>\n",
       "      <th>title</th>\n",
       "      <th>project_id</th>\n",
       "      <th>category</th>\n",
       "      <th>progress</th>\n",
       "      <th>deadline</th>\n",
       "      <th>date_completed</th>\n",
       "      <th>dur_estim</th>\n",
       "      <th>time_on_task</th>\n",
       "      <th>effort</th>\n",
       "      <th>dependency_of</th>\n",
       "      <th>description</th>\n",
       "      <th>remaining_time</th>\n",
       "      <th>completed</th>\n",
       "      <th>overdue</th>\n",
       "      <th>at_risk</th>\n",
       "    </tr>\n",
       "  </thead>\n",
       "  <tbody>\n",
       "    <tr>\n",
       "      <th>0</th>\n",
       "      <td>task1</td>\n",
       "      <td>123456</td>\n",
       "      <td>type1</td>\n",
       "      <td>0.0</td>\n",
       "      <td>2020-02-01 00:00:00.000000</td>\n",
       "      <td>None</td>\n",
       "      <td>1 days 00:00:00</td>\n",
       "      <td>0 days</td>\n",
       "      <td>2</td>\n",
       "      <td></td>\n",
       "      <td>body</td>\n",
       "      <td>0 days</td>\n",
       "      <td>0</td>\n",
       "      <td>0</td>\n",
       "      <td>0</td>\n",
       "    </tr>\n",
       "    <tr>\n",
       "      <th>1</th>\n",
       "      <td>cert2</td>\n",
       "      <td>111111</td>\n",
       "      <td>training</td>\n",
       "      <td>0.0</td>\n",
       "      <td>2018-01-25 17:19:31.817624</td>\n",
       "      <td>None</td>\n",
       "      <td>0 days 00:10:00</td>\n",
       "      <td>0 days</td>\n",
       "      <td>0</td>\n",
       "      <td></td>\n",
       "      <td>2017-02-01 00:00:00</td>\n",
       "      <td>0 days</td>\n",
       "      <td>0</td>\n",
       "      <td>0</td>\n",
       "      <td>0</td>\n",
       "    </tr>\n",
       "    <tr>\n",
       "      <th>2</th>\n",
       "      <td>cert3</td>\n",
       "      <td>111111</td>\n",
       "      <td>training</td>\n",
       "      <td>0.0</td>\n",
       "      <td>2018-01-25 17:19:31.817815</td>\n",
       "      <td>None</td>\n",
       "      <td>0 days 00:10:00</td>\n",
       "      <td>0 days</td>\n",
       "      <td>0</td>\n",
       "      <td></td>\n",
       "      <td>2017-05-01 00:00:00</td>\n",
       "      <td>0 days</td>\n",
       "      <td>0</td>\n",
       "      <td>0</td>\n",
       "      <td>0</td>\n",
       "    </tr>\n",
       "    <tr>\n",
       "      <th>3</th>\n",
       "      <td>cert3</td>\n",
       "      <td>111111</td>\n",
       "      <td>training</td>\n",
       "      <td>0.0</td>\n",
       "      <td>2018-01-25 17:19:31.817815</td>\n",
       "      <td>None</td>\n",
       "      <td>0 days 00:10:00</td>\n",
       "      <td>0 days</td>\n",
       "      <td>0</td>\n",
       "      <td></td>\n",
       "      <td>2017-05-01 00:00:00</td>\n",
       "      <td>0 days</td>\n",
       "      <td>0</td>\n",
       "      <td>0</td>\n",
       "      <td>0</td>\n",
       "    </tr>\n",
       "  </tbody>\n",
       "</table>\n",
       "</div>"
      ],
      "text/plain": [
       "   title  project_id  category  progress                   deadline  \\\n",
       "0  task1      123456     type1       0.0 2020-02-01 00:00:00.000000   \n",
       "1  cert2      111111  training       0.0 2018-01-25 17:19:31.817624   \n",
       "2  cert3      111111  training       0.0 2018-01-25 17:19:31.817815   \n",
       "3  cert3      111111  training       0.0 2018-01-25 17:19:31.817815   \n",
       "\n",
       "  date_completed       dur_estim time_on_task  effort dependency_of  \\\n",
       "0           None 1 days 00:00:00       0 days       2                 \n",
       "1           None 0 days 00:10:00       0 days       0                 \n",
       "2           None 0 days 00:10:00       0 days       0                 \n",
       "3           None 0 days 00:10:00       0 days       0                 \n",
       "\n",
       "           description remaining_time  completed  overdue  at_risk  \n",
       "0                 body         0 days          0        0        0  \n",
       "1  2017-02-01 00:00:00         0 days          0        0        0  \n",
       "2  2017-05-01 00:00:00         0 days          0        0        0  \n",
       "3  2017-05-01 00:00:00         0 days          0        0        0  "
      ]
     },
     "execution_count": 32,
     "metadata": {},
     "output_type": "execute_result"
    }
   ],
   "source": [
    "df.head(10)"
   ]
  },
  {
   "cell_type": "code",
   "execution_count": 33,
   "metadata": {},
   "outputs": [
    {
     "name": "stdout",
     "output_type": "stream",
     "text": [
      "4\n"
     ]
    }
   ],
   "source": [
    "zen.remove_old()"
   ]
  },
  {
   "cell_type": "code",
   "execution_count": 35,
   "metadata": {},
   "outputs": [],
   "source": [
    "a = zen.make_today_schedule()"
   ]
  },
  {
   "cell_type": "code",
   "execution_count": 36,
   "metadata": {},
   "outputs": [
    {
     "data": {
      "text/plain": [
       "[9.013458950201883, 10.428571428571429, 10.428571428571429, 10.428571428571429]"
      ]
     },
     "execution_count": 36,
     "metadata": {},
     "output_type": "execute_result"
    }
   ],
   "source": [
    "a.tasks"
   ]
  },
  {
   "cell_type": "code",
   "execution_count": null,
   "metadata": {},
   "outputs": [],
   "source": []
  },
  {
   "cell_type": "code",
   "execution_count": null,
   "metadata": {},
   "outputs": [],
   "source": []
  },
  {
   "cell_type": "code",
   "execution_count": null,
   "metadata": {},
   "outputs": [],
   "source": []
  },
  {
   "cell_type": "code",
   "execution_count": 22,
   "metadata": {},
   "outputs": [],
   "source": [
    "a = [1,2,1,3,1,5]"
   ]
  },
  {
   "cell_type": "code",
   "execution_count": 23,
   "metadata": {},
   "outputs": [],
   "source": [
    "a.sort()"
   ]
  },
  {
   "cell_type": "code",
   "execution_count": 24,
   "metadata": {},
   "outputs": [
    {
     "data": {
      "text/plain": [
       "[1, 1, 1, 2, 3, 5]"
      ]
     },
     "execution_count": 24,
     "metadata": {},
     "output_type": "execute_result"
    }
   ],
   "source": [
    "a"
   ]
  },
  {
   "cell_type": "code",
   "execution_count": null,
   "metadata": {},
   "outputs": [],
   "source": []
  }
 ],
 "metadata": {
  "kernelspec": {
   "display_name": "Python 3",
   "language": "python",
   "name": "python3"
  },
  "language_info": {
   "codemirror_mode": {
    "name": "ipython",
    "version": 3
   },
   "file_extension": ".py",
   "mimetype": "text/x-python",
   "name": "python",
   "nbconvert_exporter": "python",
   "pygments_lexer": "ipython3",
   "version": "3.5.2"
  }
 },
 "nbformat": 4,
 "nbformat_minor": 2
}
