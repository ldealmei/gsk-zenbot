{
 "cells": [
  {
   "cell_type": "code",
   "execution_count": 1,
   "metadata": {},
   "outputs": [],
   "source": [
    "from Zenbot_demo import Zenbot\n",
    "import uuid\n",
    "import pandas as pd\n",
    "import datetime\n",
    "from Zenbot_demo import Zenbot\n",
    "Zenbot_master = Zenbot(owner = {'name':000000}, events =[], tasks = [])\n",
    "\n",
    "\n",
    "class Team(object):\n",
    "\tdef __init__ (self, creator_id, zenbot_ids, description = ''):\n",
    "\t\tself.team_id = str(uuid.uuid4())\n",
    "\t\tself.creator = creator_id\n",
    "\t\tself.zenbot_ids = zenbot_ids\n",
    "\t\tself.description = description\n",
    "\t\tself.accessdict= {'level1':['Z3N', creator_id], 'level2':[], 'level3':[]}\n",
    "\n",
    "\n",
    "\tdef report_tasks(self, caller_zenbotid, zenbotids_tocall = []):\n",
    "\t\treport = dict()\n",
    "\t\tif len(zenbotids_tocall) == 0:\n",
    "\t\t\tzenbotids_tocall= self.zenbot_ids\n",
    "\t\tif caller_zenbotid in self.accessdict['level1'] or caller_zenbotid in self.accessdict['level2']:\n",
    "\t\t\tfor zenbotid in zenbotids_tocall:\n",
    "\t\t\t\tzenbot = Zenbot.zenbot_dict[zenbotid]\n",
    "\t\t\t\treport[zenbotid] = zenbot.report_tasks(caller_zenbotid)\n",
    "\t\telse:\n",
    "\t\t\treport = None\n",
    "\n",
    "\t\treturn (report)\n",
    "\n",
    "\t#returns a dataframe of the tasks in the team\n",
    "\tdef report_tasks_aggregate(self, caller_zenbotid, zenbotids_tocall = []):\n",
    "\t\ttask_report = pd.DataFrame()\n",
    "\t\tif len(zenbotids_tocall) == 0:\n",
    "\t\t\tzenbotids_tocall= self.zenbot_ids\n",
    "\n",
    "\t\tif caller_zenbotid in self.accessdict['level1'] or caller_zenbotid in self.accessdict['level2'] or (caller_zenbotid in self.accessdict['level3'] and len(zenbotids_tocall) > 1):\n",
    "\t\t\treport = self.report_tasks(caller_zenbotid)\n",
    "\t\t\t\n",
    "\t\t\t#TODO change this\n",
    "\t\t\tn = 0\n",
    "\t\t\tfor zenbotid in zenbotids_tocall:\n",
    "\t\t\t\tif n == 0:\n",
    "\t\t\t\t\ttask_report = report[zenbotid]\n",
    "\t\t\t\t\tn += 1\n",
    "\t\t\t\telse:\n",
    "\t\t\t\t\ttask_report = task_report.append(report[zenbotid])\n",
    "\n",
    "\t\t\ttask_report.append(list(report.values()))\n",
    "\t\t\t#task_report.columns = ['title', 'project_id', 'category', 'progress', 'deadline', 'date_completed', 'dur_estim', 'time_on_task', 'effort', 'dependency_of', 'description', 'completed', 'overdue', 'at_risk']\n",
    "\t\t\ttask_report = task_report.sort_values(by = 'deadline').reset_index(drop = True)\n",
    "\t\telse:\n",
    "\t\t\ttask_report = None\n",
    "\n",
    "\t\treturn (task_report)\n",
    "\n",
    "\t# returns a dict keys:zenbotids values:dicts keys:certifications, requiredcertifications values:dicts key:certification_name value:date_acquired/required\n",
    "\tdef report_certificates(self, caller_zenbotid, zenbotids_tocall = []):\n",
    "\t\tcerts = dict()\n",
    "\t\tif len(zenbotids_tocall) == 0:\n",
    "\t\t\tzenbotids_tocall= self.zenbot_ids\n",
    "\t\tif caller_zenbotid in self.accessdict['level1'] or caller_zenbotid in self.accessdict['level2'] or (caller_zenbotid in self.accessdict['level3'] and len(zenbotids_tocall) > 1):\n",
    "\t\t\tfor zenbotid in zenbotids_tocall:\n",
    "\t\t\t\tzenbot = Zenbot.zenbot_dict[zenbotid]\n",
    "\t\t\t\tcerts[zenbotid] = {'certifications': zenbot.report_certifications(caller_zenbotid), 'requiredcertifications': zenbot.report_requiredcertifications(caller_zenbotid)}\n",
    "\n",
    "\t\treturn(certs)\n",
    "\n",
    "\n",
    "\t# returns a dict keys:zenbotids values:lists of events\n",
    "\tdef report_events(self, caller_zenbotid, zenbotids_tocall = []):\n",
    "\t\tevents = dict()\n",
    "\t\tif len(zenbotids_tocall) == 0:\n",
    "\t\t\tzenbotids_tocall= self.zenbot_ids\n",
    "\t\tif caller_zenbotid in self.accessdict['level1'] or caller_zenbotid in self.accessdict['level2'] or (caller_zenbotid in self.accessdict['level3'] and len(zenbotids_tocall) > 1):\n",
    "\t\t\tfor zenbotid in zenbotids_tocall:\n",
    "\t\t\t\tzenbot = Zenbot.zenbot_dict[zenbotid]\n",
    "\t\t\t\tevents[zenbotid] = zenbot.report_events(caller_zenbotid)\n",
    "\n",
    "\t\treturn events\n",
    "\n",
    "\t\treturn(certs)\n",
    "\n",
    "\t# returns a dict keys:zenbotids values:lists of trainings\n",
    "\tdef report_trainings(self, caller_zenbotid, zenbotids_tocall = []):\n",
    "\t\ttrainings = dict()\n",
    "\t\tif len(zenbotids_tocall) == 0:\n",
    "\t\t\tzenbotids_tocall= self.zenbot_ids\n",
    "\t\tif caller_zenbotid in self.accessdict['level1'] or caller_zenbotid in self.accessdict['level2'] or (caller_zenbotid in self.accessdict['level3'] and len(zenbotids_tocall) > 1):\n",
    "\t\t\tfor zenbotid in zenbotids_tocall:\n",
    "\t\t\t\tzenbot = Zenbot.zenbot_dict[zenbotid]\n",
    "\t\t\t\ttrainings[zenbotid] = zenbot.report_trainings()\n",
    "\n",
    "\t\treturn (trainings)\n",
    "\n",
    "\tdef report_by_individual(self, caller_zenbotid, zenbotids_tocall = []):\n",
    "\t\treport = dict()\n",
    "\t\tif len(zenbotids_tocall) == 0:\n",
    "\t\t\tzenbotids_tocall= self.zenbot_ids\n",
    "\t\tfor zenbotid in zenbotids_tocall:\n",
    "\t\t\tzenbot = Zenbot.zenbot_dict[zenbotid]\n",
    "\t\t\treport[zenbotid] = zenbot.report_info(caller_zenbotid)\n",
    "\n",
    "\t\treturn(report)"
   ]
  },
  {
   "cell_type": "code",
   "execution_count": 27,
   "metadata": {},
   "outputs": [],
   "source": [
    "from numpy.random import randint, choice\n",
    "from Task import Task\n",
    "\n",
    "def get_random_cert() :\n",
    "    cert = ''\n",
    "\n",
    "    with open('training_courses.txt') as f :\n",
    "        courses = f.readlines()\n",
    "        while len(cert)<5 :  # sure its not an empty line\n",
    "            cert = courses[randint(0,len(courses))]\n",
    "\n",
    "    return cert\n",
    "\n",
    "def task_generator():\n",
    "\n",
    "    project_id = uuid.uuid4()\n",
    "    deadline  = datetime.datetime.combine(datetime.date.today() + datetime.timedelta(days = randint(1,21)), datetime.time(0))\n",
    "    creator = ''\n",
    "    dur_estim = datetime.timedelta(hours=randint(1,4))\n",
    "    importance = randint(1,4)\n",
    "    effort = randint(1,6)\n",
    "\n",
    "    available_categories = [\"Congés\", \"Design\", \"Documentation\", \"Formations suivies\", \"Gestion des accès\", \"Other\", \"Project preliminary\", \"TC3/TC5\", \"Technical Implementation\", \"Training recieved\", \"Validation Execution\", \"WB\", \"WB (Gestion + Meetings)\"]\n",
    "    category = available_categories[randint(0,len(available_categories))]\n",
    "\n",
    "    return Task(project_id, deadline, creator, dur_estim, importance, effort, category,  description= {})\n",
    "\n",
    "\n",
    "def event_generator():\n",
    "    event_type = choice(['training', 'meeting'],1, p =[0.3, 0.7])\n",
    "\n",
    "    if event_type == 'training' :\n",
    "        start = datetime.datetime.combine(datetime.date.today() + datetime.timedelta(days = randint(0,21)),datetime.time(hour=8))\n",
    "        duration = datetime.timedelta(hours=3)\n",
    "        end= start + duration\n",
    "        loc = {}\n",
    "        certification = get_random_cert()\n",
    "\n",
    "        return Training(start, end, loc, certification )\n",
    "\n",
    "    elif event_type == 'meeting' :\n",
    "        start = datetime.datetime.combine(datetime.date.today() + datetime.timedelta(days = randint(0,21)),datetime.time(hour=randint(8,14)))\n",
    "        duration = datetime.timedelta(hours=randint(1,3))\n",
    "        end = start + duration\n",
    "\n",
    "        loc = {}\n",
    "        project_id = uuid.uuid4()\n",
    "        participants = []\n",
    "\n",
    "        return Meeting(start, end, loc, project_id, participants, tasks= [])"
   ]
  },
  {
   "cell_type": "code",
   "execution_count": 38,
   "metadata": {},
   "outputs": [],
   "source": [
    "zen1 = Zenbot(owner = {'name':1000}, events =[], tasks = [])\n",
    "zen2 = Zenbot(owner = {'name':2000}, events =[], tasks = [])\n",
    "zen3 = Zenbot(owner = {'name':3000}, events =[], tasks = [])\n",
    "zen4 = Zenbot(owner = {'name':4000}, events =[], tasks = [])\n",
    "lesszen1 = Zenbot(owner = {'name':5000}, events =[], tasks = [])\n",
    "admin = Zenbot(owner={'name':'Z3N'}, events=[], tasks= [])\n"
   ]
  },
  {
   "cell_type": "code",
   "execution_count": 39,
   "metadata": {
    "collapsed": true
   },
   "outputs": [
    {
     "data": {
      "text/plain": [
       "{'1376dd7a-e9c4-4580-b3ee-41f2e7f56a76': <Zenbot_demo.Zenbot at 0x1083e2080>,\n",
       " '17a20207-9581-4131-bbfd-92ff3cc7f7fd': <Zenbot_demo.Zenbot at 0x1083d8860>,\n",
       " '221e61f0-c655-4e70-b640-04b978c9c7f4': 'None',\n",
       " '315562be-7d8d-45b9-9993-414ae77445e8': 'None',\n",
       " '38718337-9780-490b-89a5-6d4415508f3a': <Zenbot_demo.Zenbot at 0x1083e20f0>,\n",
       " '447945ae-c0b3-485b-8010-a5d04130269d': <Zenbot_demo.Zenbot at 0x1083cd400>,\n",
       " '473bc04c-c674-4d56-a950-ec43b261b61f': <Zenbot_demo.Zenbot at 0x1083d89e8>,\n",
       " '6a7a4528-d413-4202-bdd1-89c612513af8': <Zenbot_demo.Zenbot at 0x1083d87f0>,\n",
       " '7ae9302d-8989-489f-971f-6d836293b7a0': <Zenbot_demo.Zenbot at 0x1083d8940>,\n",
       " '7fbc9532-7a61-49db-a1be-2a39ed9ef93c': <Zenbot_demo.Zenbot at 0x1058e0da0>,\n",
       " '8c4676a9-b7e2-45c7-a0b5-561742c6bfd5': 'None',\n",
       " '8c9cd189-526d-4103-b649-d37d3321d932': <Zenbot_demo.Zenbot at 0x1083e2278>,\n",
       " '8d304a5f-3ef2-4172-adca-c2502441b838': 'None',\n",
       " '99abefa1-d39b-4a8e-8aa7-61eaf68498cb': <Zenbot_demo.Zenbot at 0x1083d89b0>,\n",
       " '9d923dd2-e903-4fa8-b707-917d02a47765': <Zenbot_demo.Zenbot at 0x1058e0eb8>,\n",
       " 'Z3N': <Zenbot_demo.Zenbot at 0x1083d8a20>,\n",
       " 'a56abaee-6f5d-410e-b439-81608f9527de': <Zenbot_demo.Zenbot at 0x1058e0f28>,\n",
       " 'bcd80a48-fb82-4e4e-b38f-b60cd2a2cf7e': <Zenbot_demo.Zenbot at 0x1083e21d0>,\n",
       " 'd1bccbd1-eb9b-40f4-94da-7ea75de7ab9f': <Zenbot_demo.Zenbot at 0x1058e0e10>,\n",
       " 'f32399c8-b843-4e80-8c3b-4188640fdbb1': <Zenbot_demo.Zenbot at 0x1058e0ef0>}"
      ]
     },
     "execution_count": 39,
     "metadata": {},
     "output_type": "execute_result"
    }
   ],
   "source": [
    "admin.zenbotid = 'Z3N'\n",
    "Zenbot.zenbot_dict['Z3N'] = admin\n",
    "Zenbot.zenbot_dict[zen1.zenbotid] = zen1\n",
    "Zenbot.zenbot_dict[zen2.zenbotid] = zen2\n",
    "Zenbot.zenbot_dict[zen3.zenbotid] = zen3\n",
    "Zenbot.zenbot_dict[zen4.zenbotid] = zen4\n",
    "Zenbot.zenbot_dict[lesszen1.zenbotid] = lesszen1\n",
    "Zenbot.zenbot_dict"
   ]
  },
  {
   "cell_type": "code",
   "execution_count": 4,
   "metadata": {
    "collapsed": true
   },
   "outputs": [
    {
     "name": "stdout",
     "output_type": "stream",
     "text": [
      "Z3N\n",
      "Z3N\n",
      "Z3N\n",
      "Z3N\n",
      "a56abaee-6f5d-410e-b439-81608f9527de\n",
      "Z3N\n",
      "Z3N\n",
      "Z3N\n",
      "Z3N\n",
      "a56abaee-6f5d-410e-b439-81608f9527de\n",
      "Z3N\n",
      "Z3N\n",
      "Z3N\n",
      "Z3N\n",
      "a56abaee-6f5d-410e-b439-81608f9527de\n",
      "Z3N\n",
      "Z3N\n",
      "Z3N\n",
      "Z3N\n",
      "a56abaee-6f5d-410e-b439-81608f9527de\n",
      "Z3N\n",
      "Z3N\n",
      "Z3N\n",
      "Z3N\n",
      "a56abaee-6f5d-410e-b439-81608f9527de\n"
     ]
    }
   ],
   "source": [
    "for x in range(5):\n",
    "    zen1.add_task(zen1.zenbotid, admin.zenbotid)\n",
    "    zen2.add_task(zen2.zenbotid, admin.zenbotid)\n",
    "    zen3.add_task(zen3.zenbotid, admin.zenbotid)\n",
    "    zen4.add_task(zen4.zenbotid, admin.zenbotid)\n",
    "    lesszen1.add_task(lesszen1.zenbotid, lesszen1.zenbotid)"
   ]
  },
  {
   "cell_type": "code",
   "execution_count": 40,
   "metadata": {
    "collapsed": true
   },
   "outputs": [
    {
     "name": "stdout",
     "output_type": "stream",
     "text": [
      "<Task.Task object at 0x1083d80f0>\n",
      "  category :  WB\n",
      "  created_by :  \n",
      "  date_completed :  None\n",
      "  deadline :  2018-01-27 00:00:00\n",
      "  dependency_of :  []\n",
      "  dependent_on :  []\n",
      "  description :  {}\n",
      "  dur_estim :  1:00:00\n",
      "  effort :  1\n",
      "  importance :  1\n",
      "  progress :  0.0\n",
      "  project_id :  430cc6f7-1958-4287-8885-e2295ce37e0a\n",
      "  task_id :  0563b398-4510-4228-a8e9-eaa78650f08e\n",
      "  time_on_task :  0:00:00\n",
      "None\n",
      "Z3N\n",
      "<Task.Task object at 0x1083d8438>\n",
      "  category :  Congés\n",
      "  created_by :  \n",
      "  date_completed :  None\n",
      "  deadline :  2018-01-25 00:00:00\n",
      "  dependency_of :  []\n",
      "  dependent_on :  []\n",
      "  description :  {}\n",
      "  dur_estim :  3:00:00\n",
      "  effort :  1\n",
      "  importance :  3\n",
      "  progress :  0.0\n",
      "  project_id :  1f075353-07f1-4a21-92fb-171054b5b7fc\n",
      "  task_id :  d995956e-97b1-4ea1-8954-a12f63c252e5\n",
      "  time_on_task :  0:00:00\n",
      "None\n",
      "Z3N\n",
      "<Task.Task object at 0x1083cf128>\n",
      "  category :  Validation Execution\n",
      "  created_by :  \n",
      "  date_completed :  None\n",
      "  deadline :  2018-01-29 00:00:00\n",
      "  dependency_of :  []\n",
      "  dependent_on :  []\n",
      "  description :  {}\n",
      "  dur_estim :  1:00:00\n",
      "  effort :  5\n",
      "  importance :  1\n",
      "  progress :  0.0\n",
      "  project_id :  5aabd897-c5d6-4d47-9118-c7015698e532\n",
      "  task_id :  6d575433-578f-40b0-bee9-6844fce077df\n",
      "  time_on_task :  0:00:00\n",
      "None\n",
      "Z3N\n",
      "<Task.Task object at 0x1083cd9e8>\n",
      "  category :  Other\n",
      "  created_by :  \n",
      "  date_completed :  None\n",
      "  deadline :  2018-02-02 00:00:00\n",
      "  dependency_of :  []\n",
      "  dependent_on :  []\n",
      "  description :  {}\n",
      "  dur_estim :  2:00:00\n",
      "  effort :  2\n",
      "  importance :  3\n",
      "  progress :  0.0\n",
      "  project_id :  e0d49257-a92f-4512-9c8b-309f447ec027\n",
      "  task_id :  470e4b54-8843-4aa1-a989-4e9aa80a92b7\n",
      "  time_on_task :  0:00:00\n",
      "None\n",
      "Z3N\n",
      "<Task.Task object at 0x1083cd160>\n",
      "  category :  Technical Implementation\n",
      "  created_by :  \n",
      "  date_completed :  None\n",
      "  deadline :  2018-01-21 00:00:00\n",
      "  dependency_of :  []\n",
      "  dependent_on :  []\n",
      "  description :  {}\n",
      "  dur_estim :  2:00:00\n",
      "  effort :  2\n",
      "  importance :  3\n",
      "  progress :  0.0\n",
      "  project_id :  c4e83462-9a33-4c7b-9a56-6d7c7366af12\n",
      "  task_id :  d7c23935-ce9d-4b62-a5a0-6e8eb076c0d5\n",
      "  time_on_task :  0:00:00\n",
      "None\n",
      "Z3N\n"
     ]
    }
   ],
   "source": [
    "for x in range(5):\n",
    "    new_task = task_generator()\n",
    "    zen2.add_task(zen2.zenbotid,   admin.zenbotid, new_task.project_id, new_task.deadline,\n",
    "                 new_task.dur_estim, new_task.importance, new_task.effort, new_task.category,\n",
    "                 description={'title': new_task.project_id, 'description': 'do this'})"
   ]
  },
  {
   "cell_type": "code",
   "execution_count": 41,
   "metadata": {
    "collapsed": true
   },
   "outputs": [
    {
     "name": "stdout",
     "output_type": "stream",
     "text": [
      "<Task.Task object at 0x1083d8400>\n",
      "  category :  WB\n",
      "  created_by :  Z3N\n",
      "  date_completed :  None\n",
      "  deadline :  2018-01-27 00:00:00\n",
      "  dependency_of :  []\n",
      "  dependent_on :  []\n",
      "  description :  {'title': UUID('430cc6f7-1958-4287-8885-e2295ce37e0a'), 'description': 'do this'}\n",
      "  dur_estim :  1:00:00\n",
      "  effort :  1\n",
      "  importance :  1\n",
      "  progress :  0.0\n",
      "  project_id :  430cc6f7-1958-4287-8885-e2295ce37e0a\n",
      "  task_id :  d4a13827-e13b-4ad0-8bd3-7d9591cf2a38\n",
      "  time_on_task :  0:00:00\n",
      "<Task.Task object at 0x1083cf0f0>\n",
      "  category :  Congés\n",
      "  created_by :  Z3N\n",
      "  date_completed :  None\n",
      "  deadline :  2018-01-25 00:00:00\n",
      "  dependency_of :  []\n",
      "  dependent_on :  []\n",
      "  description :  {'title': UUID('1f075353-07f1-4a21-92fb-171054b5b7fc'), 'description': 'do this'}\n",
      "  dur_estim :  3:00:00\n",
      "  effort :  1\n",
      "  importance :  3\n",
      "  progress :  0.0\n",
      "  project_id :  1f075353-07f1-4a21-92fb-171054b5b7fc\n",
      "  task_id :  6e250d4e-be98-48e8-b2c6-13ea01297ab1\n",
      "  time_on_task :  0:00:00\n",
      "<Task.Task object at 0x1083cd278>\n",
      "  category :  Validation Execution\n",
      "  created_by :  Z3N\n",
      "  date_completed :  None\n",
      "  deadline :  2018-01-29 00:00:00\n",
      "  dependency_of :  []\n",
      "  dependent_on :  []\n",
      "  description :  {'title': UUID('5aabd897-c5d6-4d47-9118-c7015698e532'), 'description': 'do this'}\n",
      "  dur_estim :  1:00:00\n",
      "  effort :  5\n",
      "  importance :  1\n",
      "  progress :  0.0\n",
      "  project_id :  5aabd897-c5d6-4d47-9118-c7015698e532\n",
      "  task_id :  48aa5ede-bfda-444d-9e9d-912d69029784\n",
      "  time_on_task :  0:00:00\n",
      "<Task.Task object at 0x1083cd0f0>\n",
      "  category :  Other\n",
      "  created_by :  Z3N\n",
      "  date_completed :  None\n",
      "  deadline :  2018-02-02 00:00:00\n",
      "  dependency_of :  []\n",
      "  dependent_on :  []\n",
      "  description :  {'title': UUID('e0d49257-a92f-4512-9c8b-309f447ec027'), 'description': 'do this'}\n",
      "  dur_estim :  2:00:00\n",
      "  effort :  2\n",
      "  importance :  3\n",
      "  progress :  0.0\n",
      "  project_id :  e0d49257-a92f-4512-9c8b-309f447ec027\n",
      "  task_id :  2e42ad41-6d66-4b43-95e2-1040093d187c\n",
      "  time_on_task :  0:00:00\n",
      "<Task.Task object at 0x1083d97f0>\n",
      "  category :  Technical Implementation\n",
      "  created_by :  Z3N\n",
      "  date_completed :  None\n",
      "  deadline :  2018-01-21 00:00:00\n",
      "  dependency_of :  []\n",
      "  dependent_on :  []\n",
      "  description :  {'title': UUID('c4e83462-9a33-4c7b-9a56-6d7c7366af12'), 'description': 'do this'}\n",
      "  dur_estim :  2:00:00\n",
      "  effort :  2\n",
      "  importance :  3\n",
      "  progress :  0.0\n",
      "  project_id :  c4e83462-9a33-4c7b-9a56-6d7c7366af12\n",
      "  task_id :  b4f064f0-8566-42d8-b755-b9c60ca785c3\n",
      "  time_on_task :  0:00:00\n"
     ]
    },
    {
     "data": {
      "text/plain": [
       "[None, None, None, None, None]"
      ]
     },
     "execution_count": 41,
     "metadata": {},
     "output_type": "execute_result"
    }
   ],
   "source": [
    "[t.prettify() for t in zen2.tasks]"
   ]
  },
  {
   "cell_type": "code",
   "execution_count": 7,
   "metadata": {
    "collapsed": true
   },
   "outputs": [
    {
     "name": "stdout",
     "output_type": "stream",
     "text": [
      "True\n",
      "<Zenbot_demo.Zenbot object at 0x1058e0e10>\n",
      "True\n",
      "<Zenbot_demo.Zenbot object at 0x1058e0da0>\n",
      "True\n",
      "<Zenbot_demo.Zenbot object at 0x1058e0eb8>\n",
      "True\n",
      "<Zenbot_demo.Zenbot object at 0x1058e0ef0>\n"
     ]
    }
   ],
   "source": [
    "admin.grant_access(lesszen1.zenbotid, zen1.zenbotid, 'level2')\n",
    "admin.grant_access(lesszen1.zenbotid, zen2.zenbotid, 'level2')\n",
    "admin.grant_access(lesszen1.zenbotid, zen3.zenbotid, 'level2')\n",
    "admin.grant_access(lesszen1.zenbotid, zen4.zenbotid, 'level2')"
   ]
  },
  {
   "cell_type": "code",
   "execution_count": 8,
   "metadata": {},
   "outputs": [
    {
     "data": {
      "text/plain": [
       "{'level1': ['7fbc9532-7a61-49db-a1be-2a39ed9ef93c', 'Z3N'],\n",
       " 'level2': ['a56abaee-6f5d-410e-b439-81608f9527de'],\n",
       " 'level3': []}"
      ]
     },
     "execution_count": 8,
     "metadata": {},
     "output_type": "execute_result"
    }
   ],
   "source": [
    "zen2.accessdict"
   ]
  },
  {
   "cell_type": "code",
   "execution_count": 9,
   "metadata": {},
   "outputs": [],
   "source": [
    "zen2.report_info(zen1.zenbotid)"
   ]
  },
  {
   "cell_type": "code",
   "execution_count": 10,
   "metadata": {},
   "outputs": [
    {
     "data": {
      "text/plain": [
       "<Schedule.Schedule at 0x10589fd30>"
      ]
     },
     "execution_count": 10,
     "metadata": {},
     "output_type": "execute_result"
    }
   ],
   "source": [
    "zen2.make_today_schedule()"
   ]
  },
  {
   "cell_type": "code",
   "execution_count": 42,
   "metadata": {},
   "outputs": [],
   "source": [
    "\n",
    "zen1.certifications = dict([['cert1', datetime.datetime(2016,5,5)], ['cert2', datetime.datetime(2016,2,1)]])\n",
    "zen1.requiredcertifications = dict([['cert1', datetime.datetime(2016,1,5)], ['cert2', datetime.datetime(2017,2,1)],['cert3', datetime.datetime(2017,5,1)]])\n",
    "\n",
    "zen2.certifications = dict([['GESTION DES PERMIS', datetime.datetime(2016,5,5)], ['cert2', datetime.datetime(2016,2,1)]])\n",
    "zen2.requiredcertifications = dict([['cert1', datetime.datetime(2016,1,5)], ['cert2', datetime.datetime(2017,2,1)],['cert3', datetime.datetime(2017,5,1)]])\n",
    "\n",
    "zen3.certifications = dict([['Root Cause Analysis', datetime.datetime(2016,5,5)], ['cert2', datetime.datetime(2016,2,1)]])\n",
    "zen3.requiredcertifications = dict([['cert1', datetime.datetime(2016,1,5)], ['cert2', datetime.datetime(2017,2,1)],['cert3', datetime.datetime(2017,5,1)]])\n",
    "\n",
    "zen4.certifications = dict([['cert1', datetime.datetime(2016,5,5)], ['cert2', datetime.datetime(2016,2,1)]])\n",
    "zen4.requiredcertifications = dict([['cert1', datetime.datetime(2016,1,5)], ['cert2', datetime.datetime(2017,2,1)],['cert3', datetime.datetime(2017,5,1)]])"
   ]
  },
  {
   "cell_type": "code",
   "execution_count": 12,
   "metadata": {},
   "outputs": [
    {
     "name": "stdout",
     "output_type": "stream",
     "text": [
      "2016-05-05 00:00:00\n",
      "cert2\n",
      "cert3\n",
      "2016-05-05 00:00:00\n",
      "cert2\n",
      "cert3\n",
      "2016-05-05 00:00:00\n",
      "cert2\n",
      "cert3\n",
      "2016-05-05 00:00:00\n",
      "cert2\n",
      "cert3\n"
     ]
    }
   ],
   "source": [
    "zen1.new_trainings()\n",
    "zen2.new_trainings()\n",
    "zen3.new_trainings()\n",
    "zen4.new_trainings()"
   ]
  },
  {
   "cell_type": "code",
   "execution_count": 13,
   "metadata": {},
   "outputs": [
    {
     "data": {
      "text/plain": [
       "[<Task.Task at 0x1058e0550>,\n",
       " <Task.Task at 0x1058e0e80>,\n",
       " <Task.Task at 0x1058e0b38>,\n",
       " <Task.Task at 0x10576de48>,\n",
       " <Task.Task at 0x10576d7f0>,\n",
       " <Task.Task at 0x10576ac18>,\n",
       " <Task.Task at 0x10576ab38>]"
      ]
     },
     "execution_count": 13,
     "metadata": {},
     "output_type": "execute_result"
    }
   ],
   "source": [
    "zen2.tasks"
   ]
  },
  {
   "cell_type": "code",
   "execution_count": 14,
   "metadata": {},
   "outputs": [],
   "source": [
    "team = Team(admin.zenbotid, [zen1.zenbotid, zen2.zenbotid, zen3.zenbotid, zen4.zenbotid])"
   ]
  },
  {
   "cell_type": "code",
   "execution_count": 15,
   "metadata": {
    "collapsed": true
   },
   "outputs": [
    {
     "data": {
      "text/plain": [
       "{'7fbc9532-7a61-49db-a1be-2a39ed9ef93c':    title  project_id  category  progress                   deadline  \\\n",
       " 0  cert2      111111  training       0.0 2018-01-26 13:31:37.394108   \n",
       " 1  cert3      111111  training       0.0 2018-01-26 13:31:37.394184   \n",
       " 2  task1      123456     type1       0.0 2020-02-01 00:00:00.000000   \n",
       " 3  task1      123456     type1       0.0 2020-02-01 00:00:00.000000   \n",
       " 4  task1      123456     type1       0.0 2020-02-01 00:00:00.000000   \n",
       " 5  task1      123456     type1       0.0 2020-02-01 00:00:00.000000   \n",
       " 6  task1      123456     type1       0.0 2020-02-01 00:00:00.000000   \n",
       " \n",
       "   date_completed       dur_estim time_on_task  effort dependency_of  \\\n",
       " 0           None 0 days 00:10:00       0 days       0                 \n",
       " 1           None 0 days 00:10:00       0 days       0                 \n",
       " 2           None 1 days 00:00:00       0 days       2                 \n",
       " 3           None 1 days 00:00:00       0 days       2                 \n",
       " 4           None 1 days 00:00:00       0 days       2                 \n",
       " 5           None 1 days 00:00:00       0 days       2                 \n",
       " 6           None 1 days 00:00:00       0 days       2                 \n",
       " \n",
       "            description remaining_time  completed  overdue  at_risk  \n",
       " 0  2017-02-01 00:00:00         0 days          0        0        0  \n",
       " 1  2017-05-01 00:00:00         0 days          0        0        0  \n",
       " 2              do this         0 days          0        0        0  \n",
       " 3              do this         0 days          0        0        0  \n",
       " 4              do this         0 days          0        0        0  \n",
       " 5              do this         0 days          0        0        0  \n",
       " 6              do this         0 days          0        0        0  ,\n",
       " '9d923dd2-e903-4fa8-b707-917d02a47765':    title  project_id  category  progress                   deadline  \\\n",
       " 0  cert2      111111  training       0.0 2018-01-26 13:31:37.394318   \n",
       " 1  cert3      111111  training       0.0 2018-01-26 13:31:37.394379   \n",
       " 2  task1      123456     type1       0.0 2020-02-01 00:00:00.000000   \n",
       " 3  task1      123456     type1       0.0 2020-02-01 00:00:00.000000   \n",
       " 4  task1      123456     type1       0.0 2020-02-01 00:00:00.000000   \n",
       " 5  task1      123456     type1       0.0 2020-02-01 00:00:00.000000   \n",
       " 6  task1      123456     type1       0.0 2020-02-01 00:00:00.000000   \n",
       " \n",
       "   date_completed       dur_estim time_on_task  effort dependency_of  \\\n",
       " 0           None 0 days 00:10:00       0 days       0                 \n",
       " 1           None 0 days 00:10:00       0 days       0                 \n",
       " 2           None 1 days 00:00:00       0 days       2                 \n",
       " 3           None 1 days 00:00:00       0 days       2                 \n",
       " 4           None 1 days 00:00:00       0 days       2                 \n",
       " 5           None 1 days 00:00:00       0 days       2                 \n",
       " 6           None 1 days 00:00:00       0 days       2                 \n",
       " \n",
       "            description remaining_time  completed  overdue  at_risk  \n",
       " 0  2017-02-01 00:00:00         0 days          0        0        0  \n",
       " 1  2017-05-01 00:00:00         0 days          0        0        0  \n",
       " 2              do this         0 days          0        0        0  \n",
       " 3              do this         0 days          0        0        0  \n",
       " 4              do this         0 days          0        0        0  \n",
       " 5              do this         0 days          0        0        0  \n",
       " 6              do this         0 days          0        0        0  ,\n",
       " 'd1bccbd1-eb9b-40f4-94da-7ea75de7ab9f':    title  project_id  category  progress                   deadline  \\\n",
       " 0  cert2      111111  training       0.0 2018-01-26 13:31:37.393836   \n",
       " 1  cert3      111111  training       0.0 2018-01-26 13:31:37.393945   \n",
       " 2  task1      123456     type1       0.0 2020-02-01 00:00:00.000000   \n",
       " 3  task1      123456     type1       0.0 2020-02-01 00:00:00.000000   \n",
       " 4  task1      123456     type1       0.0 2020-02-01 00:00:00.000000   \n",
       " 5  task1      123456     type1       0.0 2020-02-01 00:00:00.000000   \n",
       " 6  task1      123456     type1       0.0 2020-02-01 00:00:00.000000   \n",
       " \n",
       "   date_completed       dur_estim time_on_task  effort dependency_of  \\\n",
       " 0           None 0 days 00:10:00       0 days       0                 \n",
       " 1           None 0 days 00:10:00       0 days       0                 \n",
       " 2           None 1 days 00:00:00       0 days       2                 \n",
       " 3           None 1 days 00:00:00       0 days       2                 \n",
       " 4           None 1 days 00:00:00       0 days       2                 \n",
       " 5           None 1 days 00:00:00       0 days       2                 \n",
       " 6           None 1 days 00:00:00       0 days       2                 \n",
       " \n",
       "            description remaining_time  completed  overdue  at_risk  \n",
       " 0  2017-02-01 00:00:00         0 days          0        0        0  \n",
       " 1  2017-05-01 00:00:00         0 days          0        0        0  \n",
       " 2              do this         0 days          0        0        0  \n",
       " 3              do this         0 days          0        0        0  \n",
       " 4              do this         0 days          0        0        0  \n",
       " 5              do this         0 days          0        0        0  \n",
       " 6              do this         0 days          0        0        0  ,\n",
       " 'f32399c8-b843-4e80-8c3b-4188640fdbb1':    title  project_id  category  progress                   deadline  \\\n",
       " 0  cert2      111111  training       0.0 2018-01-26 13:31:37.394530   \n",
       " 1  cert3      111111  training       0.0 2018-01-26 13:31:37.394590   \n",
       " 2  task1      123456     type1       0.0 2020-02-01 00:00:00.000000   \n",
       " 3  task1      123456     type1       0.0 2020-02-01 00:00:00.000000   \n",
       " 4  task1      123456     type1       0.0 2020-02-01 00:00:00.000000   \n",
       " 5  task1      123456     type1       0.0 2020-02-01 00:00:00.000000   \n",
       " 6  task1      123456     type1       0.0 2020-02-01 00:00:00.000000   \n",
       " \n",
       "   date_completed       dur_estim time_on_task  effort dependency_of  \\\n",
       " 0           None 0 days 00:10:00       0 days       0                 \n",
       " 1           None 0 days 00:10:00       0 days       0                 \n",
       " 2           None 1 days 00:00:00       0 days       2                 \n",
       " 3           None 1 days 00:00:00       0 days       2                 \n",
       " 4           None 1 days 00:00:00       0 days       2                 \n",
       " 5           None 1 days 00:00:00       0 days       2                 \n",
       " 6           None 1 days 00:00:00       0 days       2                 \n",
       " \n",
       "            description remaining_time  completed  overdue  at_risk  \n",
       " 0  2017-02-01 00:00:00         0 days          0        0        0  \n",
       " 1  2017-05-01 00:00:00         0 days          0        0        0  \n",
       " 2              do this         0 days          0        0        0  \n",
       " 3              do this         0 days          0        0        0  \n",
       " 4              do this         0 days          0        0        0  \n",
       " 5              do this         0 days          0        0        0  \n",
       " 6              do this         0 days          0        0        0  }"
      ]
     },
     "execution_count": 15,
     "metadata": {},
     "output_type": "execute_result"
    }
   ],
   "source": [
    "team.report_tasks(admin.zenbotid)"
   ]
  },
  {
   "cell_type": "code",
   "execution_count": 16,
   "metadata": {},
   "outputs": [],
   "source": [
    "yourdict = {zen2.zenbotid : zen2.report_info(admin.zenbotid)}"
   ]
  },
  {
   "cell_type": "code",
   "execution_count": 17,
   "metadata": {
    "collapsed": true
   },
   "outputs": [
    {
     "data": {
      "text/plain": [
       "{'7fbc9532-7a61-49db-a1be-2a39ed9ef93c': {'certifications': {'cert1': datetime.datetime(2016, 5, 5, 0, 0),\n",
       "   'cert2': datetime.datetime(2016, 2, 1, 0, 0)},\n",
       "  'events': [],\n",
       "  'requiredcertifications': {'cert1': datetime.datetime(2016, 1, 5, 0, 0),\n",
       "   'cert2': datetime.datetime(2017, 2, 1, 0, 0),\n",
       "   'cert3': datetime.datetime(2017, 5, 1, 0, 0)},\n",
       "  'tasks':    title  project_id  category  progress                   deadline  \\\n",
       "  0  cert2      111111  training       0.0 2018-01-26 13:31:37.394108   \n",
       "  1  cert3      111111  training       0.0 2018-01-26 13:31:37.394184   \n",
       "  2  task1      123456     type1       0.0 2020-02-01 00:00:00.000000   \n",
       "  3  task1      123456     type1       0.0 2020-02-01 00:00:00.000000   \n",
       "  4  task1      123456     type1       0.0 2020-02-01 00:00:00.000000   \n",
       "  5  task1      123456     type1       0.0 2020-02-01 00:00:00.000000   \n",
       "  6  task1      123456     type1       0.0 2020-02-01 00:00:00.000000   \n",
       "  \n",
       "    date_completed       dur_estim time_on_task  effort dependency_of  \\\n",
       "  0           None 0 days 00:10:00       0 days       0                 \n",
       "  1           None 0 days 00:10:00       0 days       0                 \n",
       "  2           None 1 days 00:00:00       0 days       2                 \n",
       "  3           None 1 days 00:00:00       0 days       2                 \n",
       "  4           None 1 days 00:00:00       0 days       2                 \n",
       "  5           None 1 days 00:00:00       0 days       2                 \n",
       "  6           None 1 days 00:00:00       0 days       2                 \n",
       "  \n",
       "             description remaining_time  completed  overdue  at_risk  \n",
       "  0  2017-02-01 00:00:00         0 days          0        0        0  \n",
       "  1  2017-05-01 00:00:00         0 days          0        0        0  \n",
       "  2              do this         0 days          0        0        0  \n",
       "  3              do this         0 days          0        0        0  \n",
       "  4              do this         0 days          0        0        0  \n",
       "  5              do this         0 days          0        0        0  \n",
       "  6              do this         0 days          0        0        0  ,\n",
       "  'trainings': []}}"
      ]
     },
     "execution_count": 17,
     "metadata": {},
     "output_type": "execute_result"
    }
   ],
   "source": [
    "yourdict"
   ]
  },
  {
   "cell_type": "code",
   "execution_count": 18,
   "metadata": {},
   "outputs": [],
   "source": [
    "from user_training_view_demo import output_training_dashboard"
   ]
  },
  {
   "cell_type": "code",
   "execution_count": 43,
   "metadata": {},
   "outputs": [
    {
     "ename": "KeyError",
     "evalue": "'17a20207-9581-4131-bbfd-92ff3cc7f7fd'",
     "output_type": "error",
     "traceback": [
      "\u001b[0;31m---------------------------------------------------------------------------\u001b[0m",
      "\u001b[0;31mKeyError\u001b[0m                                  Traceback (most recent call last)",
      "\u001b[0;32m<ipython-input-43-cffd98a26352>\u001b[0m in \u001b[0;36m<module>\u001b[0;34m()\u001b[0m\n\u001b[1;32m      1\u001b[0m \u001b[0mbot_test_id\u001b[0m \u001b[0;34m=\u001b[0m \u001b[0mzen2\u001b[0m\u001b[0;34m.\u001b[0m\u001b[0mzenbotid\u001b[0m\u001b[0;34m\u001b[0m\u001b[0m\n\u001b[1;32m      2\u001b[0m \u001b[0;34m\u001b[0m\u001b[0m\n\u001b[0;32m----> 3\u001b[0;31m \u001b[0moutput_training_dashboard\u001b[0m\u001b[0;34m(\u001b[0m\u001b[0myourdict\u001b[0m\u001b[0;34m[\u001b[0m\u001b[0mbot_test_id\u001b[0m\u001b[0;34m]\u001b[0m\u001b[0;34m)\u001b[0m\u001b[0;34m\u001b[0m\u001b[0m\n\u001b[0m",
      "\u001b[0;31mKeyError\u001b[0m: '17a20207-9581-4131-bbfd-92ff3cc7f7fd'"
     ]
    }
   ],
   "source": [
    "bot_test_id = zen2.zenbotid\n",
    "\n",
    "output_training_dashboard(yourdict[bot_test_id])"
   ]
  },
  {
   "cell_type": "code",
   "execution_count": 46,
   "metadata": {},
   "outputs": [
    {
     "data": {
      "text/plain": [
       "[('cert1', datetime.datetime(2016, 1, 5, 0, 0)),\n",
       " ('cert2', datetime.datetime(2017, 2, 1, 0, 0)),\n",
       " ('cert3', datetime.datetime(2017, 5, 1, 0, 0))]"
      ]
     },
     "execution_count": 46,
     "metadata": {},
     "output_type": "execute_result"
    }
   ],
   "source": [
    "[(k,v) for k,v in yourdict[bot_test_id]['requiredcertifications'].items()]"
   ]
  },
  {
   "cell_type": "code",
   "execution_count": null,
   "metadata": {},
   "outputs": [],
   "source": []
  }
 ],
 "metadata": {
  "kernelspec": {
   "display_name": "Python 3",
   "language": "python",
   "name": "python3"
  },
  "language_info": {
   "codemirror_mode": {
    "name": "ipython",
    "version": 3
   },
   "file_extension": ".py",
   "mimetype": "text/x-python",
   "name": "python",
   "nbconvert_exporter": "python",
   "pygments_lexer": "ipython3",
   "version": "3.6.4"
  }
 },
 "nbformat": 4,
 "nbformat_minor": 2
}
