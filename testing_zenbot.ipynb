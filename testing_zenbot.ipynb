{
 "cells": [
  {
   "cell_type": "code",
   "execution_count": 6,
   "metadata": {},
   "outputs": [],
   "source": [
    "from Zenbot_demo import Zenbot\n",
    "import datetime\n",
    "import pandas as pd\n",
    "import uuid\n",
    "import datetime\n",
    "from Task import Task\n",
    "from Schedule import Schedule\n",
    "from Team import Team\n",
    "from Event import Training, Meeting\n",
    "import numpy as np\n"
   ]
  },
  {
   "cell_type": "code",
   "execution_count": 7,
   "metadata": {},
   "outputs": [
    {
     "data": {
      "text/plain": [
       "[<Task.Task at 0x10f96f470>]"
      ]
     },
     "execution_count": 7,
     "metadata": {},
     "output_type": "execute_result"
    }
   ],
   "source": [
    "zen = Zenbot(owner = {'name':654321}, events =[], tasks = [])\n",
    "zen.add_task(zen.zenbotid, zen.zenbotid)\n",
    "zen.tasks"
   ]
  },
  {
   "cell_type": "code",
   "execution_count": 8,
   "metadata": {},
   "outputs": [],
   "source": [
    "zen.certifications = dict([['cert1', datetime.datetime(2016,5,5)], ['cert2', datetime.datetime(2016,2,1)]])\n",
    "zen.requiredcertifications = dict([['cert1', datetime.datetime(2016,1,5)], ['cert2', datetime.datetime(2017,2,1)],['cert3', datetime.datetime(2017,5,1)]])"
   ]
  },
  {
   "cell_type": "code",
   "execution_count": 9,
   "metadata": {},
   "outputs": [
    {
     "data": {
      "text/plain": [
       "[<Task.Task at 0x10f96f470>]"
      ]
     },
     "execution_count": 9,
     "metadata": {},
     "output_type": "execute_result"
    }
   ],
   "source": [
    "zen.tasks"
   ]
  },
  {
   "cell_type": "code",
   "execution_count": 10,
   "metadata": {},
   "outputs": [
    {
     "name": "stdout",
     "output_type": "stream",
     "text": [
      "2016-05-05 00:00:00\n",
      "cert2\n",
      "cert3\n"
     ]
    }
   ],
   "source": [
    "#sometimes randomly creates duplicates\n",
    "zen.new_trainings()"
   ]
  },
  {
   "cell_type": "code",
   "execution_count": 11,
   "metadata": {},
   "outputs": [],
   "source": [
    "global master_zenbot_dict\n",
    "master_zenbot_dict = dict()"
   ]
  },
  {
   "cell_type": "code",
   "execution_count": 12,
   "metadata": {},
   "outputs": [
    {
     "name": "stdout",
     "output_type": "stream",
     "text": [
      "{'title': 'task1', 'description': 'do this'}\n",
      "{'title': 'cert2', 'description': '2017-02-01 00:00:00'}\n",
      "{'title': 'cert3', 'description': '2017-05-01 00:00:00'}\n"
     ]
    }
   ],
   "source": [
    "for task in zen.tasks:\n",
    "    print(task.description)"
   ]
  },
  {
   "cell_type": "code",
   "execution_count": 13,
   "metadata": {},
   "outputs": [],
   "source": [
    "df = zen.generate_df()"
   ]
  },
  {
   "cell_type": "code",
   "execution_count": 14,
   "metadata": {},
   "outputs": [
    {
     "data": {
      "text/html": [
       "<div>\n",
       "<style scoped>\n",
       "    .dataframe tbody tr th:only-of-type {\n",
       "        vertical-align: middle;\n",
       "    }\n",
       "\n",
       "    .dataframe tbody tr th {\n",
       "        vertical-align: top;\n",
       "    }\n",
       "\n",
       "    .dataframe thead th {\n",
       "        text-align: right;\n",
       "    }\n",
       "</style>\n",
       "<table border=\"1\" class=\"dataframe\">\n",
       "  <thead>\n",
       "    <tr style=\"text-align: right;\">\n",
       "      <th></th>\n",
       "      <th>title</th>\n",
       "      <th>project_id</th>\n",
       "      <th>category</th>\n",
       "      <th>progress</th>\n",
       "      <th>deadline</th>\n",
       "      <th>date_completed</th>\n",
       "      <th>dur_estim</th>\n",
       "      <th>time_on_task</th>\n",
       "      <th>effort</th>\n",
       "      <th>dependency_of</th>\n",
       "      <th>description</th>\n",
       "      <th>remaining_time</th>\n",
       "      <th>completed</th>\n",
       "      <th>overdue</th>\n",
       "      <th>at_risk</th>\n",
       "    </tr>\n",
       "  </thead>\n",
       "  <tbody>\n",
       "    <tr>\n",
       "      <th>0</th>\n",
       "      <td>cert2</td>\n",
       "      <td>111111</td>\n",
       "      <td>training</td>\n",
       "      <td>0.0</td>\n",
       "      <td>2018-01-26 12:31:28.045716</td>\n",
       "      <td>None</td>\n",
       "      <td>0 days 00:10:00</td>\n",
       "      <td>0 days</td>\n",
       "      <td>0</td>\n",
       "      <td></td>\n",
       "      <td>2017-02-01 00:00:00</td>\n",
       "      <td>0 days</td>\n",
       "      <td>0</td>\n",
       "      <td>0</td>\n",
       "      <td>0</td>\n",
       "    </tr>\n",
       "    <tr>\n",
       "      <th>1</th>\n",
       "      <td>cert3</td>\n",
       "      <td>111111</td>\n",
       "      <td>training</td>\n",
       "      <td>0.0</td>\n",
       "      <td>2018-01-26 12:31:28.045906</td>\n",
       "      <td>None</td>\n",
       "      <td>0 days 00:10:00</td>\n",
       "      <td>0 days</td>\n",
       "      <td>0</td>\n",
       "      <td></td>\n",
       "      <td>2017-05-01 00:00:00</td>\n",
       "      <td>0 days</td>\n",
       "      <td>0</td>\n",
       "      <td>0</td>\n",
       "      <td>0</td>\n",
       "    </tr>\n",
       "    <tr>\n",
       "      <th>2</th>\n",
       "      <td>task1</td>\n",
       "      <td>123456</td>\n",
       "      <td>type1</td>\n",
       "      <td>0.0</td>\n",
       "      <td>2020-02-01 00:00:00.000000</td>\n",
       "      <td>None</td>\n",
       "      <td>1 days 00:00:00</td>\n",
       "      <td>0 days</td>\n",
       "      <td>2</td>\n",
       "      <td></td>\n",
       "      <td>do this</td>\n",
       "      <td>0 days</td>\n",
       "      <td>0</td>\n",
       "      <td>0</td>\n",
       "      <td>0</td>\n",
       "    </tr>\n",
       "  </tbody>\n",
       "</table>\n",
       "</div>"
      ],
      "text/plain": [
       "   title  project_id  category  progress                   deadline  \\\n",
       "0  cert2      111111  training       0.0 2018-01-26 12:31:28.045716   \n",
       "1  cert3      111111  training       0.0 2018-01-26 12:31:28.045906   \n",
       "2  task1      123456     type1       0.0 2020-02-01 00:00:00.000000   \n",
       "\n",
       "  date_completed       dur_estim time_on_task  effort dependency_of  \\\n",
       "0           None 0 days 00:10:00       0 days       0                 \n",
       "1           None 0 days 00:10:00       0 days       0                 \n",
       "2           None 1 days 00:00:00       0 days       2                 \n",
       "\n",
       "           description remaining_time  completed  overdue  at_risk  \n",
       "0  2017-02-01 00:00:00         0 days          0        0        0  \n",
       "1  2017-05-01 00:00:00         0 days          0        0        0  \n",
       "2              do this         0 days          0        0        0  "
      ]
     },
     "execution_count": 14,
     "metadata": {},
     "output_type": "execute_result"
    }
   ],
   "source": [
    "df"
   ]
  },
  {
   "cell_type": "code",
   "execution_count": null,
   "metadata": {},
   "outputs": [],
   "source": []
  },
  {
   "cell_type": "code",
   "execution_count": 15,
   "metadata": {},
   "outputs": [],
   "source": [
    "zen.remove_old()"
   ]
  },
  {
   "cell_type": "code",
   "execution_count": 16,
   "metadata": {},
   "outputs": [],
   "source": [
    "a = zen.make_today_schedule()"
   ]
  },
  {
   "cell_type": "code",
   "execution_count": 17,
   "metadata": {},
   "outputs": [
    {
     "data": {
      "text/plain": [
       "[<Task.Task at 0x10f96fbe0>, <Task.Task at 0x10f96fd30>]"
      ]
     },
     "execution_count": 17,
     "metadata": {},
     "output_type": "execute_result"
    }
   ],
   "source": [
    "a.tasks"
   ]
  },
  {
   "cell_type": "code",
   "execution_count": 18,
   "metadata": {},
   "outputs": [],
   "source": [
    "admin = Zenbot(owner={'name':'Z3N'}, events=[], tasks= [])\n",
    "admin.zenbotid = 'Z3N'\n",
    "Zenbot.zenbot_dict[admin.zenbotid] = admin"
   ]
  },
  {
   "cell_type": "code",
   "execution_count": 19,
   "metadata": {},
   "outputs": [
    {
     "name": "stdout",
     "output_type": "stream",
     "text": [
      "2016-05-05 00:00:00\n",
      "cert2\n",
      "cert3\n"
     ]
    }
   ],
   "source": [
    "admin.certifications = dict([['cert1', datetime.datetime(2016,5,5)], ['cert2', datetime.datetime(2016,2,1)]])\n",
    "admin.requiredcertifications = dict([['cert1', datetime.datetime(2016,1,5)], ['cert2', datetime.datetime(2017,2,1)],['cert3', datetime.datetime(2017,5,1)]])\n",
    "admin.new_trainings()"
   ]
  },
  {
   "cell_type": "code",
   "execution_count": null,
   "metadata": {},
   "outputs": [],
   "source": []
  },
  {
   "cell_type": "code",
   "execution_count": null,
   "metadata": {},
   "outputs": [],
   "source": []
  },
  {
   "cell_type": "code",
   "execution_count": 20,
   "metadata": {},
   "outputs": [
    {
     "data": {
      "text/plain": [
       "'None'"
      ]
     },
     "execution_count": 20,
     "metadata": {},
     "output_type": "execute_result"
    }
   ],
   "source": [
    "Zenbot.zenbot_dict.get(zen.zenbotid)"
   ]
  },
  {
   "cell_type": "code",
   "execution_count": 21,
   "metadata": {},
   "outputs": [],
   "source": [
    "Zenbot.zenbot_dict[zen.zenbotid] = zen\n",
    "Zenbot.zenbot_dict[admin.zenbotid] = admin"
   ]
  },
  {
   "cell_type": "code",
   "execution_count": 22,
   "metadata": {},
   "outputs": [
    {
     "name": "stdout",
     "output_type": "stream",
     "text": [
      "True\n",
      "<Zenbot_demo.Zenbot object at 0x10f972198>\n"
     ]
    }
   ],
   "source": [
    "admin.grant_access(admin.zenbotid, zen.zenbotid)"
   ]
  },
  {
   "cell_type": "code",
   "execution_count": 23,
   "metadata": {},
   "outputs": [
    {
     "data": {
      "text/plain": [
       "{'level1': ['7f0260d2-2e13-4ae7-8f51-3b31e4ead03b', 'Z3N'],\n",
       " 'level2': [],\n",
       " 'level3': ['Z3N']}"
      ]
     },
     "execution_count": 23,
     "metadata": {},
     "output_type": "execute_result"
    }
   ],
   "source": [
    "Zenbot.zenbot_dict[zen.zenbotid].accessdict"
   ]
  },
  {
   "cell_type": "code",
   "execution_count": null,
   "metadata": {},
   "outputs": [],
   "source": []
  },
  {
   "cell_type": "code",
   "execution_count": null,
   "metadata": {},
   "outputs": [],
   "source": []
  },
  {
   "cell_type": "code",
   "execution_count": 24,
   "metadata": {},
   "outputs": [
    {
     "data": {
      "text/plain": [
       "{'4f00dc3f-7f0c-4a1d-a3ac-3591d822af9f': 'None',\n",
       " '6ccd4ec1-1f7e-42f2-b53a-46efd69d3a19': 'None',\n",
       " '7f0260d2-2e13-4ae7-8f51-3b31e4ead03b': <Zenbot_demo.Zenbot at 0x10f972198>,\n",
       " 'Z3N': <Zenbot_demo.Zenbot at 0x10f9eb438>}"
      ]
     },
     "execution_count": 24,
     "metadata": {},
     "output_type": "execute_result"
    }
   ],
   "source": [
    "Zenbot.zenbot_dict"
   ]
  },
  {
   "cell_type": "code",
   "execution_count": null,
   "metadata": {},
   "outputs": [],
   "source": []
  },
  {
   "cell_type": "code",
   "execution_count": 25,
   "metadata": {},
   "outputs": [],
   "source": [
    "Zenbot = Zenbot"
   ]
  },
  {
   "cell_type": "code",
   "execution_count": 42,
   "metadata": {},
   "outputs": [],
   "source": [
    "t = Team('Z3N', [zen.zenbotid, 'Z3N'])"
   ]
  },
  {
   "cell_type": "code",
   "execution_count": 27,
   "metadata": {},
   "outputs": [
    {
     "ename": "NameError",
     "evalue": "name 'Zenbot_master' is not defined",
     "output_type": "error",
     "traceback": [
      "\u001b[0;31m---------------------------------------------------------------------------\u001b[0m",
      "\u001b[0;31mNameError\u001b[0m                                 Traceback (most recent call last)",
      "\u001b[0;32m<ipython-input-27-e930193b77db>\u001b[0m in \u001b[0;36m<module>\u001b[0;34m()\u001b[0m\n\u001b[0;32m----> 1\u001b[0;31m \u001b[0ma\u001b[0m \u001b[0;34m=\u001b[0m \u001b[0mt\u001b[0m\u001b[0;34m.\u001b[0m\u001b[0mreport_tasks\u001b[0m\u001b[0;34m(\u001b[0m\u001b[0;34m'Z3N'\u001b[0m\u001b[0;34m)\u001b[0m\u001b[0;34m\u001b[0m\u001b[0m\n\u001b[0m",
      "\u001b[0;32m~/Desktop/GSK Hack Days/Team.py\u001b[0m in \u001b[0;36mreport_tasks\u001b[0;34m(self, caller_zenbotid, zenbotids_tocall)\u001b[0m\n\u001b[1;32m     18\u001b[0m                 \u001b[0;32mif\u001b[0m \u001b[0mcaller_zenbotid\u001b[0m \u001b[0;32min\u001b[0m \u001b[0mself\u001b[0m\u001b[0;34m.\u001b[0m\u001b[0maccessdict\u001b[0m\u001b[0;34m[\u001b[0m\u001b[0;34m'level1'\u001b[0m\u001b[0;34m]\u001b[0m \u001b[0;32mor\u001b[0m \u001b[0mcaller_zenbotid\u001b[0m \u001b[0;32min\u001b[0m \u001b[0mself\u001b[0m\u001b[0;34m.\u001b[0m\u001b[0maccessdict\u001b[0m\u001b[0;34m[\u001b[0m\u001b[0;34m'level2'\u001b[0m\u001b[0;34m]\u001b[0m\u001b[0;34m:\u001b[0m\u001b[0;34m\u001b[0m\u001b[0m\n\u001b[1;32m     19\u001b[0m                         \u001b[0;32mfor\u001b[0m \u001b[0mzenbotid\u001b[0m \u001b[0;32min\u001b[0m \u001b[0mzenbotids_tocall\u001b[0m\u001b[0;34m:\u001b[0m\u001b[0;34m\u001b[0m\u001b[0m\n\u001b[0;32m---> 20\u001b[0;31m                                 \u001b[0mzenbot\u001b[0m \u001b[0;34m=\u001b[0m \u001b[0mZenbot_master\u001b[0m\u001b[0;34m.\u001b[0m\u001b[0mzenbot_dict\u001b[0m\u001b[0;34m[\u001b[0m\u001b[0mzenbotid\u001b[0m\u001b[0;34m]\u001b[0m\u001b[0;34m\u001b[0m\u001b[0m\n\u001b[0m\u001b[1;32m     21\u001b[0m                                 \u001b[0mreport\u001b[0m\u001b[0;34m[\u001b[0m\u001b[0mzenbotid\u001b[0m\u001b[0;34m]\u001b[0m \u001b[0;34m=\u001b[0m \u001b[0mzenbot\u001b[0m\u001b[0;34m.\u001b[0m\u001b[0mreport_tasks\u001b[0m\u001b[0;34m(\u001b[0m\u001b[0mcaller_zenbotid\u001b[0m\u001b[0;34m)\u001b[0m\u001b[0;34m\u001b[0m\u001b[0m\n\u001b[1;32m     22\u001b[0m                 \u001b[0;32melse\u001b[0m\u001b[0;34m:\u001b[0m\u001b[0;34m\u001b[0m\u001b[0m\n",
      "\u001b[0;31mNameError\u001b[0m: name 'Zenbot_master' is not defined"
     ]
    }
   ],
   "source": []
  },
  {
   "cell_type": "code",
   "execution_count": 28,
   "metadata": {},
   "outputs": [],
   "source": [
    "tasklist = [[task.description['title'], task.project_id, task.category, task.progress, task.deadline, task.date_completed, task.dur_estim, task.time_on_task, task.effort, ' | '.join(task.dependency_of), task.description['description']] for task in zen.tasks]\n"
   ]
  },
  {
   "cell_type": "code",
   "execution_count": 29,
   "metadata": {},
   "outputs": [
    {
     "data": {
      "text/html": [
       "<div>\n",
       "<style scoped>\n",
       "    .dataframe tbody tr th:only-of-type {\n",
       "        vertical-align: middle;\n",
       "    }\n",
       "\n",
       "    .dataframe tbody tr th {\n",
       "        vertical-align: top;\n",
       "    }\n",
       "\n",
       "    .dataframe thead th {\n",
       "        text-align: right;\n",
       "    }\n",
       "</style>\n",
       "<table border=\"1\" class=\"dataframe\">\n",
       "  <thead>\n",
       "    <tr style=\"text-align: right;\">\n",
       "      <th></th>\n",
       "      <th>0</th>\n",
       "      <th>1</th>\n",
       "      <th>2</th>\n",
       "      <th>3</th>\n",
       "      <th>4</th>\n",
       "      <th>5</th>\n",
       "      <th>6</th>\n",
       "      <th>7</th>\n",
       "      <th>8</th>\n",
       "      <th>9</th>\n",
       "      <th>10</th>\n",
       "    </tr>\n",
       "  </thead>\n",
       "  <tbody>\n",
       "    <tr>\n",
       "      <th>0</th>\n",
       "      <td>task1</td>\n",
       "      <td>123456</td>\n",
       "      <td>type1</td>\n",
       "      <td>0.0</td>\n",
       "      <td>2020-02-01 00:00:00.000000</td>\n",
       "      <td>None</td>\n",
       "      <td>1 days 00:00:00</td>\n",
       "      <td>0 days</td>\n",
       "      <td>2</td>\n",
       "      <td></td>\n",
       "      <td>do this</td>\n",
       "    </tr>\n",
       "    <tr>\n",
       "      <th>1</th>\n",
       "      <td>cert2</td>\n",
       "      <td>111111</td>\n",
       "      <td>training</td>\n",
       "      <td>0.0</td>\n",
       "      <td>2018-01-26 12:31:28.045716</td>\n",
       "      <td>None</td>\n",
       "      <td>0 days 00:10:00</td>\n",
       "      <td>0 days</td>\n",
       "      <td>0</td>\n",
       "      <td></td>\n",
       "      <td>2017-02-01 00:00:00</td>\n",
       "    </tr>\n",
       "    <tr>\n",
       "      <th>2</th>\n",
       "      <td>cert3</td>\n",
       "      <td>111111</td>\n",
       "      <td>training</td>\n",
       "      <td>0.0</td>\n",
       "      <td>2018-01-26 12:31:28.045906</td>\n",
       "      <td>None</td>\n",
       "      <td>0 days 00:10:00</td>\n",
       "      <td>0 days</td>\n",
       "      <td>0</td>\n",
       "      <td></td>\n",
       "      <td>2017-05-01 00:00:00</td>\n",
       "    </tr>\n",
       "  </tbody>\n",
       "</table>\n",
       "</div>"
      ],
      "text/plain": [
       "      0       1         2    3                          4     5   \\\n",
       "0  task1  123456     type1  0.0 2020-02-01 00:00:00.000000  None   \n",
       "1  cert2  111111  training  0.0 2018-01-26 12:31:28.045716  None   \n",
       "2  cert3  111111  training  0.0 2018-01-26 12:31:28.045906  None   \n",
       "\n",
       "               6      7   8  9                    10  \n",
       "0 1 days 00:00:00 0 days   2                 do this  \n",
       "1 0 days 00:10:00 0 days   0     2017-02-01 00:00:00  \n",
       "2 0 days 00:10:00 0 days   0     2017-05-01 00:00:00  "
      ]
     },
     "execution_count": 29,
     "metadata": {},
     "output_type": "execute_result"
    }
   ],
   "source": [
    "pd.DataFrame(tasklist)"
   ]
  },
  {
   "cell_type": "code",
   "execution_count": null,
   "metadata": {},
   "outputs": [],
   "source": []
  },
  {
   "cell_type": "code",
   "execution_count": 43,
   "metadata": {},
   "outputs": [
    {
     "data": {
      "text/plain": [
       "{'certifications': {'cert1': datetime.datetime(2016, 5, 5, 0, 0),\n",
       "  'cert2': datetime.datetime(2016, 2, 1, 0, 0)},\n",
       " 'events': [],\n",
       " 'requiredcertifications': {'cert1': datetime.datetime(2016, 1, 5, 0, 0),\n",
       "  'cert2': datetime.datetime(2017, 2, 1, 0, 0),\n",
       "  'cert3': datetime.datetime(2017, 5, 1, 0, 0)},\n",
       " 'tasks':    title  project_id  category  progress                   deadline  \\\n",
       " 0  cert2      111111  training       0.0 2018-01-26 12:31:28.045716   \n",
       " 1  cert3      111111  training       0.0 2018-01-26 12:31:28.045906   \n",
       " 2  task1      123456     type1       0.0 2020-02-01 00:00:00.000000   \n",
       " \n",
       "   date_completed       dur_estim time_on_task  effort dependency_of  \\\n",
       " 0           None 0 days 00:10:00       0 days       0                 \n",
       " 1           None 0 days 00:10:00       0 days       0                 \n",
       " 2           None 1 days 00:00:00       0 days       2                 \n",
       " \n",
       "            description remaining_time  completed  overdue  at_risk  \n",
       " 0  2017-02-01 00:00:00         0 days          0        0        0  \n",
       " 1  2017-05-01 00:00:00         0 days          0        0        0  \n",
       " 2              do this         0 days          0        0        0  ,\n",
       " 'trainings': []}"
      ]
     },
     "execution_count": 43,
     "metadata": {},
     "output_type": "execute_result"
    }
   ],
   "source": [
    "zen.report_info(asker_zenbotid = zen.zenbotid)"
   ]
  },
  {
   "cell_type": "code",
   "execution_count": 44,
   "metadata": {},
   "outputs": [
    {
     "data": {
      "text/plain": [
       "{'7f0260d2-2e13-4ae7-8f51-3b31e4ead03b': [], 'Z3N': []}"
      ]
     },
     "execution_count": 44,
     "metadata": {},
     "output_type": "execute_result"
    }
   ],
   "source": [
    "t.report_events('Z3N')"
   ]
  },
  {
   "cell_type": "code",
   "execution_count": 40,
   "metadata": {},
   "outputs": [],
   "source": [
    "import uuid\n",
    "import pandas as pd\n",
    "from Zenbot_demo import Zenbot\n",
    "Zenbot_master = Zenbot(owner = {'name':000000}, events =[], tasks = [])\n",
    "\n",
    "\n",
    "class Team(object):\n",
    "\tdef __init__ (self, creator_id, zenbot_ids, description = ''):\n",
    "\t\tself.team_id = str(uuid.uuid4())\n",
    "\t\tself.creator = creator_id\n",
    "\t\tself.zenbot_ids = zenbot_ids\n",
    "\t\tself.description = description\n",
    "\t\tself.accessdict= {'level1':['Z3N', creator_id], 'level2':[], 'level3':[]}\n",
    "\n",
    "\n",
    "\tdef report_tasks(self, caller_zenbotid, zenbotids_tocall = []):\n",
    "\t\treport = dict()\n",
    "\t\tif len(zenbotids_tocall) == 0:\n",
    "\t\t\tzenbotids_tocall= self.zenbot_ids\n",
    "\t\tif caller_zenbotid in self.accessdict['level1'] or caller_zenbotid in self.accessdict['level2']:\n",
    "\t\t\tfor zenbotid in zenbotids_tocall:\n",
    "\t\t\t\tzenbot = Zenbot.zenbot_dict[zenbotid]\n",
    "\t\t\t\treport[zenbotid] = zenbot.report_tasks(caller_zenbotid)\n",
    "\t\telse:\n",
    "\t\t\treport = None\n",
    "\n",
    "\t\treturn (report)\n",
    "\n",
    "\t#returns a dataframe of the tasks in the team\n",
    "\tdef report_tasks_aggregate(self, caller_zenbotid, zenbotids_tocall = []):\n",
    "\t\ttask_report = pd.DataFrame()\n",
    "\t\tif len(zenbotids_tocall) == 0:\n",
    "\t\t\tzenbotids_tocall= self.zenbot_ids\n",
    "\n",
    "\t\tif caller_zenbotid in self.accessdict['level1'] or caller_zenbotid in self.accessdict['level2'] or (caller_zenbotid in self.accessdict['level3'] and len(zenbotids_tocall) > 1):\n",
    "\t\t\treport = self.report_tasks(caller_zenbotid)\n",
    "\t\t\t\n",
    "\t\t\t#TODO change this\n",
    "\t\t\tn = 0\n",
    "\t\t\tfor zenbotid in zenbotids_tocall:\n",
    "\t\t\t\tif n == 0:\n",
    "\t\t\t\t\ttask_report = report[zenbotid]\n",
    "\t\t\t\t\tn += 1\n",
    "\t\t\t\telse:\n",
    "\t\t\t\t\ttask_report = task_report.append(report[zenbotid])\n",
    "\n",
    "\t\t\ttask_report.append(list(report.values()))\n",
    "\t\t\t#task_report.columns = ['title', 'project_id', 'category', 'progress', 'deadline', 'date_completed', 'dur_estim', 'time_on_task', 'effort', 'dependency_of', 'description', 'completed', 'overdue', 'at_risk']\n",
    "\t\t\ttask_report = task_report.sort_values(by = 'deadline').reset_index(drop = True)\n",
    "\t\telse:\n",
    "\t\t\ttask_report = None\n",
    "\n",
    "\t\treturn (task_report)\n",
    "\n",
    "\t# returns a dict keys:zenbotids values:dicts keys:certifications, requiredcertifications values:dicts key:certification_name value:date_acquired/required\n",
    "\tdef report_certificates(self, caller_zenbotid, zenbotids_tocall = []):\n",
    "\t\tcerts = dict()\n",
    "\t\tif len(zenbotids_tocall) == 0:\n",
    "\t\t\tzenbotids_tocall= self.zenbot_ids\n",
    "\t\tif caller_zenbotid in self.accessdict['level1'] or caller_zenbotid in self.accessdict['level2'] or (caller_zenbotid in self.accessdict['level3'] and len(zenbotids_tocall) > 1):\n",
    "\t\t\tfor zenbotid in zenbotids_tocall:\n",
    "\t\t\t\tzenbot = Zenbot.zenbot_dict[zenbotid]\n",
    "\t\t\t\tcerts[zenbotid] = {'certifications': zenbot.report_certifications(caller_zenbotid), 'requiredcertifications': zenbot.report_requiredcertifications(caller_zenbotid)}\n",
    "\n",
    "\t\treturn(certs)\n",
    "\n",
    "\n",
    "\t# returns a dict keys:zenbotids values:lists of events\n",
    "\tdef report_events(self, caller_zenbotid, zenbotids_tocall = []):\n",
    "\t\tevents = dict()\n",
    "\t\tif len(zenbotids_tocall) == 0:\n",
    "\t\t\tzenbotids_tocall= self.zenbot_ids\n",
    "\t\tif caller_zenbotid in self.accessdict['level1'] or caller_zenbotid in self.accessdict['level2'] or (caller_zenbotid in self.accessdict['level3'] and len(zenbotids_tocall) > 1):\n",
    "\t\t\tfor zenbotid in zenbotids_tocall:\n",
    "\t\t\t\tzenbot = Zenbot.zenbot_dict[zenbotid]\n",
    "\t\t\t\tevents[zenbotid] = zenbot.report_events(caller_zenbotid)\n",
    "\n",
    "\t\treturn events\n",
    "\n",
    "\t\treturn(certs)\n",
    "\n",
    "\t# returns a dict keys:zenbotids values:lists of trainings\n",
    "\tdef report_trainings(self, caller_zenbotid, zenbotids_tocall = []):\n",
    "\t\ttrainings = dict()\n",
    "\t\tif len(zenbotids_tocall) == 0:\n",
    "\t\t\tzenbotids_tocall= self.zenbot_ids\n",
    "\t\tif caller_zenbotid in self.accessdict['level1'] or caller_zenbotid in self.accessdict['level2'] or (caller_zenbotid in self.accessdict['level3'] and len(zenbotids_tocall) > 1):\n",
    "\t\t\tfor zenbotid in zenbotids_tocall:\n",
    "\t\t\t\tzenbot = Zenbot.zenbot_dict[zenbotid]\n",
    "\t\t\t\ttrainings[zenbotid] = zenbot.report_trainings()\n",
    "\n",
    "\t\treturn (trainings)\n",
    "\n",
    "\tdef report_by_individual(self, caller_zenbotid, zenbotids_tocall = []):\n",
    "\t\treport = dict()\n",
    "\t\tif len(zenbotids_tocall) == 0:\n",
    "\t\t\tzenbotids_tocall= self.zenbot_ids\n",
    "\t\tfor zenbotid in zenbotids_tocall:\n",
    "\t\t\tzenbot = Zenbot.zenbot_dict[zenbotid]\n",
    "\t\t\treport[zenbotid] = zenbot.report_info(caller_zenbotid)\n",
    "\n",
    "\t\treturn(report)"
   ]
  },
  {
   "cell_type": "code",
   "execution_count": null,
   "metadata": {},
   "outputs": [],
   "source": []
  },
  {
   "cell_type": "code",
   "execution_count": 38,
   "metadata": {},
   "outputs": [
    {
     "data": {
      "text/plain": [
       "<Zenbot_demo.Zenbot at 0x10f96fb38>"
      ]
     },
     "execution_count": 38,
     "metadata": {},
     "output_type": "execute_result"
    }
   ],
   "source": [
    "Zenbot_master"
   ]
  },
  {
   "cell_type": "code",
   "execution_count": null,
   "metadata": {},
   "outputs": [],
   "source": []
  }
 ],
 "metadata": {
  "kernelspec": {
   "display_name": "Python 3",
   "language": "python",
   "name": "python3"
  },
  "language_info": {
   "codemirror_mode": {
    "name": "ipython",
    "version": 3
   },
   "file_extension": ".py",
   "mimetype": "text/x-python",
   "name": "python",
   "nbconvert_exporter": "python",
   "pygments_lexer": "ipython3",
   "version": "3.6.4"
  }
 },
 "nbformat": 4,
 "nbformat_minor": 2
}
